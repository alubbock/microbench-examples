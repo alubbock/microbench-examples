{
 "cells": [
  {
   "cell_type": "markdown",
   "id": "sitting-thinking",
   "metadata": {},
   "source": [
    "# Analyzing benchmarks of EARM 1.0 PySB model with microbench"
   ]
  },
  {
   "cell_type": "markdown",
   "id": "devoted-gauge",
   "metadata": {},
   "source": [
    "## Background\n",
    "\n",
    "[PySB](https://pysb.org) is a biochemical modeling framework for Python. Here, we analyze data from running simulations of a model ([Extrinsic apoptosis reaction model version 1.0](https://github.com/pysb/pysb/blob/master/pysb/examples/run_earm_1_0.py)) using an ODE integrator from the SciPy library. We examine the runtime across two different functions, and check that the environment (packages and their versions) are consistent across all runs, for reproducibility purposes."
   ]
  },
  {
   "cell_type": "markdown",
   "id": "honest-alpha",
   "metadata": {},
   "source": [
    "## Load the data"
   ]
  },
  {
   "cell_type": "code",
   "execution_count": 1,
   "id": "7776fd68",
   "metadata": {},
   "outputs": [],
   "source": [
    "%matplotlib inline"
   ]
  },
  {
   "cell_type": "code",
   "execution_count": 2,
   "id": "inclusive-yeast",
   "metadata": {},
   "outputs": [],
   "source": [
    "import pandas\n",
    "import seaborn\n",
    "import numpy"
   ]
  },
  {
   "cell_type": "code",
   "execution_count": 3,
   "id": "coordinated-encoding",
   "metadata": {},
   "outputs": [],
   "source": [
    "# Show up to 200 rows in a dataframe\n",
    "pandas.set_option('display.max_rows', 200)"
   ]
  },
  {
   "cell_type": "code",
   "execution_count": 4,
   "id": "round-constraint",
   "metadata": {},
   "outputs": [],
   "source": [
    "results = pandas.read_json('microbench-pysb.json', lines=True)"
   ]
  },
  {
   "cell_type": "markdown",
   "id": "instant-method",
   "metadata": {},
   "source": [
    "## Calculate mean runtime by function"
   ]
  },
  {
   "cell_type": "code",
   "execution_count": 5,
   "id": "bigger-failure",
   "metadata": {},
   "outputs": [
    {
     "name": "stdout",
     "output_type": "stream",
     "text": [
      "function_name\n",
      "fig_4a   0 days 00:00:04.563349400\n",
      "fig_4b   0 days 00:00:00.266761400\n",
      "Name: runtime, dtype: timedelta64[ns]\n"
     ]
    }
   ],
   "source": [
    "# Calculate runtime for each run\n",
    "results['runtime'] = results['finish_time'] - results['start_time']\n",
    "\n",
    "# Average runtime by function name\n",
    "print(results.groupby('function_name')['runtime'].mean(numeric_only=False))"
   ]
  },
  {
   "cell_type": "markdown",
   "id": "widespread-piano",
   "metadata": {},
   "source": [
    "## Show mean runtime as a boxplot with whiskers"
   ]
  },
  {
   "cell_type": "code",
   "execution_count": 6,
   "id": "f10ae4ca",
   "metadata": {},
   "outputs": [
    {
     "data": {
      "text/plain": [
       "<AxesSubplot:xlabel='function_name', ylabel='runtime'>"
      ]
     },
     "execution_count": 6,
     "metadata": {},
     "output_type": "execute_result"
    },
    {
     "data": {
      "image/png": "[encoded data removed]",
      "text/plain": [
       "<Figure size 432x288 with 1 Axes>"
      ]
     },
     "metadata": {
      "needs_background": "light"
     },
     "output_type": "display_data"
    }
   ],
   "source": [
    "seaborn.boxplot(x=results['function_name'], y=results['runtime'].dt.total_seconds())"
   ]
  },
  {
   "cell_type": "markdown",
   "id": "vocational-invite",
   "metadata": {},
   "source": [
    "## Check conda environment consistency\n",
    "\n",
    "We can quickly check if the conda environment was consistent across runs. We convert the conda_versions data (stored as dictionaries) to strings, and check that they're the same for every run:"
   ]
  },
  {
   "cell_type": "code",
   "execution_count": 7,
   "id": "scientific-reservoir",
   "metadata": {},
   "outputs": [
    {
     "data": {
      "text/plain": [
       "True"
      ]
     },
     "execution_count": 7,
     "metadata": {},
     "output_type": "execute_result"
    }
   ],
   "source": [
    "len(results['conda_versions'].astype('str').unique()) == 1"
   ]
  },
  {
   "cell_type": "markdown",
   "id": "supreme-toyota",
   "metadata": {},
   "source": [
    "We can also convert the package versions from a single run into a pandas dataframe:"
   ]
  },
  {
   "cell_type": "code",
   "execution_count": 8,
   "id": "latin-cutting",
   "metadata": {},
   "outputs": [
    {
     "data": {
      "text/html": [
       "<div>\n",
       "<style scoped>\n",
       "    .dataframe tbody tr th:only-of-type {\n",
       "        vertical-align: middle;\n",
       "    }\n",
       "\n",
       "    .dataframe tbody tr th {\n",
       "        vertical-align: top;\n",
       "    }\n",
       "\n",
       "    .dataframe thead th {\n",
       "        text-align: right;\n",
       "    }\n",
       "</style>\n",
       "<table border=\"1\" class=\"dataframe\">\n",
       "  <thead>\n",
       "    <tr style=\"text-align: right;\">\n",
       "      <th></th>\n",
       "      <th>Version</th>\n",
       "    </tr>\n",
       "  </thead>\n",
       "  <tbody>\n",
       "    <tr>\n",
       "      <th>appnope</th>\n",
       "      <td>0.1.2pypi_0</td>\n",
       "    </tr>\n",
       "    <tr>\n",
       "      <th>attrs</th>\n",
       "      <td>21.2.0pypi_0</td>\n",
       "    </tr>\n",
       "    <tr>\n",
       "      <th>backcall</th>\n",
       "      <td>0.2.0pypi_0</td>\n",
       "    </tr>\n",
       "    <tr>\n",
       "      <th>bionetgen</th>\n",
       "      <td>2.5.11</td>\n",
       "    </tr>\n",
       "    <tr>\n",
       "      <th>blas</th>\n",
       "      <td>1.0mkl</td>\n",
       "    </tr>\n",
       "    <tr>\n",
       "      <th>ca-certificates</th>\n",
       "      <td>2021.5.25hecd8cb5_1</td>\n",
       "    </tr>\n",
       "    <tr>\n",
       "      <th>certifi</th>\n",
       "      <td>2021.5.30py39hecd8cb5_0</td>\n",
       "    </tr>\n",
       "    <tr>\n",
       "      <th>coverage</th>\n",
       "      <td>5.5pypi_0</td>\n",
       "    </tr>\n",
       "    <tr>\n",
       "      <th>cycler</th>\n",
       "      <td>0.10.0pypi_0</td>\n",
       "    </tr>\n",
       "    <tr>\n",
       "      <th>debugpy</th>\n",
       "      <td>1.3.0pypi_0</td>\n",
       "    </tr>\n",
       "    <tr>\n",
       "      <th>decorator</th>\n",
       "      <td>5.0.9pypi_0</td>\n",
       "    </tr>\n",
       "    <tr>\n",
       "      <th>gmp</th>\n",
       "      <td>6.2.1h23ab428_2</td>\n",
       "    </tr>\n",
       "    <tr>\n",
       "      <th>gmpy2</th>\n",
       "      <td>2.0.8py39h4b98818_3</td>\n",
       "    </tr>\n",
       "    <tr>\n",
       "      <th>iniconfig</th>\n",
       "      <td>1.1.1pypi_0</td>\n",
       "    </tr>\n",
       "    <tr>\n",
       "      <th>intel-openmp</th>\n",
       "      <td>2021.2.0hecd8cb5_564</td>\n",
       "    </tr>\n",
       "    <tr>\n",
       "      <th>ipykernel</th>\n",
       "      <td>6.0.0pypi_0</td>\n",
       "    </tr>\n",
       "    <tr>\n",
       "      <th>ipython</th>\n",
       "      <td>7.25.0pypi_0</td>\n",
       "    </tr>\n",
       "    <tr>\n",
       "      <th>ipython-genutils</th>\n",
       "      <td>0.2.0pypi_0</td>\n",
       "    </tr>\n",
       "    <tr>\n",
       "      <th>jedi</th>\n",
       "      <td>0.18.0pypi_0</td>\n",
       "    </tr>\n",
       "    <tr>\n",
       "      <th>jsonschema</th>\n",
       "      <td>3.2.0pypi_0</td>\n",
       "    </tr>\n",
       "    <tr>\n",
       "      <th>jupyter-client</th>\n",
       "      <td>6.1.12pypi_0</td>\n",
       "    </tr>\n",
       "    <tr>\n",
       "      <th>jupyter-core</th>\n",
       "      <td>4.7.1pypi_0</td>\n",
       "    </tr>\n",
       "    <tr>\n",
       "      <th>kiwisolver</th>\n",
       "      <td>1.3.1pypi_0</td>\n",
       "    </tr>\n",
       "    <tr>\n",
       "      <th>libcxx</th>\n",
       "      <td>10.0.01</td>\n",
       "    </tr>\n",
       "    <tr>\n",
       "      <th>libffi</th>\n",
       "      <td>3.3hb1e8313_2</td>\n",
       "    </tr>\n",
       "    <tr>\n",
       "      <th>libgfortran</th>\n",
       "      <td>3.0.1h93005f0_2</td>\n",
       "    </tr>\n",
       "    <tr>\n",
       "      <th>matplotlib</th>\n",
       "      <td>3.4.2pypi_0</td>\n",
       "    </tr>\n",
       "    <tr>\n",
       "      <th>matplotlib-inline</th>\n",
       "      <td>0.1.2pypi_0</td>\n",
       "    </tr>\n",
       "    <tr>\n",
       "      <th>microbench</th>\n",
       "      <td>0.7pypi_0</td>\n",
       "    </tr>\n",
       "    <tr>\n",
       "      <th>mkl</th>\n",
       "      <td>2021.2.0hecd8cb5_269</td>\n",
       "    </tr>\n",
       "    <tr>\n",
       "      <th>mkl-service</th>\n",
       "      <td>2.3.0py39h9ed2024_1</td>\n",
       "    </tr>\n",
       "    <tr>\n",
       "      <th>mkl_fft</th>\n",
       "      <td>1.3.0py39h4a7008c_2</td>\n",
       "    </tr>\n",
       "    <tr>\n",
       "      <th>mkl_random</th>\n",
       "      <td>1.2.1py39hb2f4e1b_2</td>\n",
       "    </tr>\n",
       "    <tr>\n",
       "      <th>mpc</th>\n",
       "      <td>1.1.0h6ef4df4_1</td>\n",
       "    </tr>\n",
       "    <tr>\n",
       "      <th>mpfr</th>\n",
       "      <td>4.0.2h9066e36_1</td>\n",
       "    </tr>\n",
       "    <tr>\n",
       "      <th>mpmath</th>\n",
       "      <td>1.2.1py39hecd8cb5_0</td>\n",
       "    </tr>\n",
       "    <tr>\n",
       "      <th>nbformat</th>\n",
       "      <td>5.1.3pypi_0</td>\n",
       "    </tr>\n",
       "    <tr>\n",
       "      <th>nbval</th>\n",
       "      <td>0.9.6pypi_0</td>\n",
       "    </tr>\n",
       "    <tr>\n",
       "      <th>ncurses</th>\n",
       "      <td>6.2h0a44026_1</td>\n",
       "    </tr>\n",
       "    <tr>\n",
       "      <th>networkx</th>\n",
       "      <td>2.5.1pyhd3eb1b0_0</td>\n",
       "    </tr>\n",
       "    <tr>\n",
       "      <th>nfsim</th>\n",
       "      <td>1.12.10</td>\n",
       "    </tr>\n",
       "    <tr>\n",
       "      <th>numpy</th>\n",
       "      <td>1.21.0pypi_0</td>\n",
       "    </tr>\n",
       "    <tr>\n",
       "      <th>numpy-base</th>\n",
       "      <td>1.20.2py39he0bd621_0</td>\n",
       "    </tr>\n",
       "    <tr>\n",
       "      <th>openssl</th>\n",
       "      <td>1.1.1kh9ed2024_0</td>\n",
       "    </tr>\n",
       "    <tr>\n",
       "      <th>packaging</th>\n",
       "      <td>20.9pypi_0</td>\n",
       "    </tr>\n",
       "    <tr>\n",
       "      <th>pandas</th>\n",
       "      <td>1.2.5pypi_0</td>\n",
       "    </tr>\n",
       "    <tr>\n",
       "      <th>parso</th>\n",
       "      <td>0.8.2pypi_0</td>\n",
       "    </tr>\n",
       "    <tr>\n",
       "      <th>pexpect</th>\n",
       "      <td>4.8.0pypi_0</td>\n",
       "    </tr>\n",
       "    <tr>\n",
       "      <th>pickleshare</th>\n",
       "      <td>0.7.5pypi_0</td>\n",
       "    </tr>\n",
       "    <tr>\n",
       "      <th>pillow</th>\n",
       "      <td>8.2.0pypi_0</td>\n",
       "    </tr>\n",
       "    <tr>\n",
       "      <th>pip</th>\n",
       "      <td>21.1.3py39hecd8cb5_0</td>\n",
       "    </tr>\n",
       "    <tr>\n",
       "      <th>pluggy</th>\n",
       "      <td>0.13.1pypi_0</td>\n",
       "    </tr>\n",
       "    <tr>\n",
       "      <th>prompt-toolkit</th>\n",
       "      <td>3.0.19pypi_0</td>\n",
       "    </tr>\n",
       "    <tr>\n",
       "      <th>psutil</th>\n",
       "      <td>5.8.0pypi_0</td>\n",
       "    </tr>\n",
       "    <tr>\n",
       "      <th>ptyprocess</th>\n",
       "      <td>0.7.0pypi_0</td>\n",
       "    </tr>\n",
       "    <tr>\n",
       "      <th>py</th>\n",
       "      <td>1.10.0pypi_0</td>\n",
       "    </tr>\n",
       "    <tr>\n",
       "      <th>pygments</th>\n",
       "      <td>2.9.0pypi_0</td>\n",
       "    </tr>\n",
       "    <tr>\n",
       "      <th>pyparsing</th>\n",
       "      <td>2.4.7pypi_0</td>\n",
       "    </tr>\n",
       "    <tr>\n",
       "      <th>pyrsistent</th>\n",
       "      <td>0.18.0pypi_0</td>\n",
       "    </tr>\n",
       "    <tr>\n",
       "      <th>pysb</th>\n",
       "      <td>1.13.0pyh39e3cac_0</td>\n",
       "    </tr>\n",
       "    <tr>\n",
       "      <th>pytest</th>\n",
       "      <td>6.2.4pypi_0</td>\n",
       "    </tr>\n",
       "    <tr>\n",
       "      <th>python</th>\n",
       "      <td>3.9.5h88f2d9e_3</td>\n",
       "    </tr>\n",
       "    <tr>\n",
       "      <th>python-dateutil</th>\n",
       "      <td>2.8.1pyhd3eb1b0_0</td>\n",
       "    </tr>\n",
       "    <tr>\n",
       "      <th>pytz</th>\n",
       "      <td>2021.1pypi_0</td>\n",
       "    </tr>\n",
       "    <tr>\n",
       "      <th>pyzmq</th>\n",
       "      <td>22.1.0pypi_0</td>\n",
       "    </tr>\n",
       "    <tr>\n",
       "      <th>readline</th>\n",
       "      <td>8.1h9ed2024_0</td>\n",
       "    </tr>\n",
       "    <tr>\n",
       "      <th>scipy</th>\n",
       "      <td>1.7.0pypi_0</td>\n",
       "    </tr>\n",
       "    <tr>\n",
       "      <th>seaborn</th>\n",
       "      <td>0.11.1pypi_0</td>\n",
       "    </tr>\n",
       "    <tr>\n",
       "      <th>setuptools</th>\n",
       "      <td>52.0.0py39hecd8cb5_0</td>\n",
       "    </tr>\n",
       "    <tr>\n",
       "      <th>six</th>\n",
       "      <td>1.16.0pyhd3eb1b0_0</td>\n",
       "    </tr>\n",
       "    <tr>\n",
       "      <th>sqlite</th>\n",
       "      <td>3.36.0hce871da_0</td>\n",
       "    </tr>\n",
       "    <tr>\n",
       "      <th>sympy</th>\n",
       "      <td>1.8py39hecd8cb5_0</td>\n",
       "    </tr>\n",
       "    <tr>\n",
       "      <th>tk</th>\n",
       "      <td>8.6.10hb0a8c7a_0</td>\n",
       "    </tr>\n",
       "    <tr>\n",
       "      <th>toml</th>\n",
       "      <td>0.10.2pypi_0</td>\n",
       "    </tr>\n",
       "    <tr>\n",
       "      <th>tornado</th>\n",
       "      <td>6.1pypi_0</td>\n",
       "    </tr>\n",
       "    <tr>\n",
       "      <th>traitlets</th>\n",
       "      <td>5.0.5pypi_0</td>\n",
       "    </tr>\n",
       "    <tr>\n",
       "      <th>tzdata</th>\n",
       "      <td>2021ah52ac0ba_0</td>\n",
       "    </tr>\n",
       "    <tr>\n",
       "      <th>wcwidth</th>\n",
       "      <td>0.2.5pypi_0</td>\n",
       "    </tr>\n",
       "    <tr>\n",
       "      <th>wheel</th>\n",
       "      <td>0.36.2pyhd3eb1b0_0</td>\n",
       "    </tr>\n",
       "    <tr>\n",
       "      <th>xz</th>\n",
       "      <td>5.2.5h1de35cc_0</td>\n",
       "    </tr>\n",
       "    <tr>\n",
       "      <th>zlib</th>\n",
       "      <td>1.2.11h1de35cc_3</td>\n",
       "    </tr>\n",
       "  </tbody>\n",
       "</table>\n",
       "</div>"
      ],
      "text/plain": [
       "                                   Version\n",
       "appnope                        0.1.2pypi_0\n",
       "attrs                         21.2.0pypi_0\n",
       "backcall                       0.2.0pypi_0\n",
       "bionetgen                           2.5.11\n",
       "blas                                1.0mkl\n",
       "ca-certificates        2021.5.25hecd8cb5_1\n",
       "certifi            2021.5.30py39hecd8cb5_0\n",
       "coverage                         5.5pypi_0\n",
       "cycler                        0.10.0pypi_0\n",
       "debugpy                        1.3.0pypi_0\n",
       "decorator                      5.0.9pypi_0\n",
       "gmp                        6.2.1h23ab428_2\n",
       "gmpy2                  2.0.8py39h4b98818_3\n",
       "iniconfig                      1.1.1pypi_0\n",
       "intel-openmp          2021.2.0hecd8cb5_564\n",
       "ipykernel                      6.0.0pypi_0\n",
       "ipython                       7.25.0pypi_0\n",
       "ipython-genutils               0.2.0pypi_0\n",
       "jedi                          0.18.0pypi_0\n",
       "jsonschema                     3.2.0pypi_0\n",
       "jupyter-client                6.1.12pypi_0\n",
       "jupyter-core                   4.7.1pypi_0\n",
       "kiwisolver                     1.3.1pypi_0\n",
       "libcxx                             10.0.01\n",
       "libffi                       3.3hb1e8313_2\n",
       "libgfortran                3.0.1h93005f0_2\n",
       "matplotlib                     3.4.2pypi_0\n",
       "matplotlib-inline              0.1.2pypi_0\n",
       "microbench                       0.7pypi_0\n",
       "mkl                   2021.2.0hecd8cb5_269\n",
       "mkl-service            2.3.0py39h9ed2024_1\n",
       "mkl_fft                1.3.0py39h4a7008c_2\n",
       "mkl_random             1.2.1py39hb2f4e1b_2\n",
       "mpc                        1.1.0h6ef4df4_1\n",
       "mpfr                       4.0.2h9066e36_1\n",
       "mpmath                 1.2.1py39hecd8cb5_0\n",
       "nbformat                       5.1.3pypi_0\n",
       "nbval                          0.9.6pypi_0\n",
       "ncurses                      6.2h0a44026_1\n",
       "networkx                 2.5.1pyhd3eb1b0_0\n",
       "nfsim                              1.12.10\n",
       "numpy                         1.21.0pypi_0\n",
       "numpy-base            1.20.2py39he0bd621_0\n",
       "openssl                   1.1.1kh9ed2024_0\n",
       "packaging                       20.9pypi_0\n",
       "pandas                         1.2.5pypi_0\n",
       "parso                          0.8.2pypi_0\n",
       "pexpect                        4.8.0pypi_0\n",
       "pickleshare                    0.7.5pypi_0\n",
       "pillow                         8.2.0pypi_0\n",
       "pip                   21.1.3py39hecd8cb5_0\n",
       "pluggy                        0.13.1pypi_0\n",
       "prompt-toolkit                3.0.19pypi_0\n",
       "psutil                         5.8.0pypi_0\n",
       "ptyprocess                     0.7.0pypi_0\n",
       "py                            1.10.0pypi_0\n",
       "pygments                       2.9.0pypi_0\n",
       "pyparsing                      2.4.7pypi_0\n",
       "pyrsistent                    0.18.0pypi_0\n",
       "pysb                    1.13.0pyh39e3cac_0\n",
       "pytest                         6.2.4pypi_0\n",
       "python                     3.9.5h88f2d9e_3\n",
       "python-dateutil          2.8.1pyhd3eb1b0_0\n",
       "pytz                          2021.1pypi_0\n",
       "pyzmq                         22.1.0pypi_0\n",
       "readline                     8.1h9ed2024_0\n",
       "scipy                          1.7.0pypi_0\n",
       "seaborn                       0.11.1pypi_0\n",
       "setuptools            52.0.0py39hecd8cb5_0\n",
       "six                     1.16.0pyhd3eb1b0_0\n",
       "sqlite                    3.36.0hce871da_0\n",
       "sympy                    1.8py39hecd8cb5_0\n",
       "tk                        8.6.10hb0a8c7a_0\n",
       "toml                          0.10.2pypi_0\n",
       "tornado                          6.1pypi_0\n",
       "traitlets                      5.0.5pypi_0\n",
       "tzdata                     2021ah52ac0ba_0\n",
       "wcwidth                        0.2.5pypi_0\n",
       "wheel                   0.36.2pyhd3eb1b0_0\n",
       "xz                         5.2.5h1de35cc_0\n",
       "zlib                      1.2.11h1de35cc_3"
      ]
     },
     "execution_count": 8,
     "metadata": {},
     "output_type": "execute_result"
    }
   ],
   "source": [
    "pandas.DataFrame.from_dict(results['conda_versions'][0], orient='index', columns=['Version'])"
   ]
  },
  {
   "cell_type": "markdown",
   "id": "e87dc2b9",
   "metadata": {},
   "source": [
    "Microbench provides a function, `envdiff`, to compare two environments together in a Jupyter Notebook, with differences highlighted in red (scroll to bottom in the following example). "
   ]
  },
  {
   "cell_type": "code",
   "execution_count": 9,
   "id": "progressive-johns",
   "metadata": {},
   "outputs": [
    {
     "data": {
      "text/html": [
       "<div style=\"display: grid;grid-template-columns: 1fr 1fr;grid-gap: 0;\"><p></p><p></p><pre style=\"margin-top:0;padding:0\">{</pre><pre style=\"margin-top:0\";padding:0>{</pre><pre style=\"margin-top:0;padding:0\">&nbsp;&nbsp;&quot;conda_versions&quot;:&nbsp;{</pre><pre style=\"margin-top:0\";padding:0>&nbsp;&nbsp;&quot;conda_versions&quot;:&nbsp;{</pre><pre style=\"margin-top:0;padding:0\">&nbsp;&nbsp;&nbsp;&nbsp;&quot;appnope&quot;:&nbsp;&quot;0.1.2pypi_0&quot;,</pre><pre style=\"margin-top:0\";padding:0>&nbsp;&nbsp;&nbsp;&nbsp;&quot;appnope&quot;:&nbsp;&quot;0.1.2pypi_0&quot;,</pre><pre style=\"margin-top:0;padding:0\">&nbsp;&nbsp;&nbsp;&nbsp;&quot;attrs&quot;:&nbsp;&quot;21.2.0pypi_0&quot;,</pre><pre style=\"margin-top:0\";padding:0>&nbsp;&nbsp;&nbsp;&nbsp;&quot;attrs&quot;:&nbsp;&quot;21.2.0pypi_0&quot;,</pre><pre style=\"margin-top:0;padding:0\">&nbsp;&nbsp;&nbsp;&nbsp;&quot;backcall&quot;:&nbsp;&quot;0.2.0pypi_0&quot;,</pre><pre style=\"margin-top:0\";padding:0>&nbsp;&nbsp;&nbsp;&nbsp;&quot;backcall&quot;:&nbsp;&quot;0.2.0pypi_0&quot;,</pre><pre style=\"margin-top:0;padding:0\">&nbsp;&nbsp;&nbsp;&nbsp;&quot;bionetgen&quot;:&nbsp;&quot;2.5.11&quot;,</pre><pre style=\"margin-top:0\";padding:0>&nbsp;&nbsp;&nbsp;&nbsp;&quot;bionetgen&quot;:&nbsp;&quot;2.5.11&quot;,</pre><pre style=\"margin-top:0;padding:0\">&nbsp;&nbsp;&nbsp;&nbsp;&quot;blas&quot;:&nbsp;&quot;1.0mkl&quot;,</pre><pre style=\"margin-top:0\";padding:0>&nbsp;&nbsp;&nbsp;&nbsp;&quot;blas&quot;:&nbsp;&quot;1.0mkl&quot;,</pre><pre style=\"margin-top:0;padding:0\">&nbsp;&nbsp;&nbsp;&nbsp;&quot;ca-certificates&quot;:&nbsp;&quot;2021.5.25hecd8cb5_1&quot;,</pre><pre style=\"margin-top:0\";padding:0>&nbsp;&nbsp;&nbsp;&nbsp;&quot;ca-certificates&quot;:&nbsp;&quot;2021.5.25hecd8cb5_1&quot;,</pre><pre style=\"margin-top:0;padding:0\">&nbsp;&nbsp;&nbsp;&nbsp;&quot;certifi&quot;:&nbsp;&quot;2021.5.30py39hecd8cb5_0&quot;,</pre><pre style=\"margin-top:0\";padding:0>&nbsp;&nbsp;&nbsp;&nbsp;&quot;certifi&quot;:&nbsp;&quot;2021.5.30py39hecd8cb5_0&quot;,</pre><pre style=\"margin-top:0;padding:0\">&nbsp;&nbsp;&nbsp;&nbsp;&quot;coverage&quot;:&nbsp;&quot;5.5pypi_0&quot;,</pre><pre style=\"margin-top:0\";padding:0>&nbsp;&nbsp;&nbsp;&nbsp;&quot;coverage&quot;:&nbsp;&quot;5.5pypi_0&quot;,</pre><pre style=\"margin-top:0;padding:0\">&nbsp;&nbsp;&nbsp;&nbsp;&quot;cycler&quot;:&nbsp;&quot;0.10.0pypi_0&quot;,</pre><pre style=\"margin-top:0\";padding:0>&nbsp;&nbsp;&nbsp;&nbsp;&quot;cycler&quot;:&nbsp;&quot;0.10.0pypi_0&quot;,</pre><pre style=\"margin-top:0;padding:0\">&nbsp;&nbsp;&nbsp;&nbsp;&quot;debugpy&quot;:&nbsp;&quot;1.3.0pypi_0&quot;,</pre><pre style=\"margin-top:0\";padding:0>&nbsp;&nbsp;&nbsp;&nbsp;&quot;debugpy&quot;:&nbsp;&quot;1.3.0pypi_0&quot;,</pre><pre style=\"margin-top:0;padding:0\">&nbsp;&nbsp;&nbsp;&nbsp;&quot;decorator&quot;:&nbsp;&quot;5.0.9pypi_0&quot;,</pre><pre style=\"margin-top:0\";padding:0>&nbsp;&nbsp;&nbsp;&nbsp;&quot;decorator&quot;:&nbsp;&quot;5.0.9pypi_0&quot;,</pre><pre style=\"margin-top:0;padding:0\">&nbsp;&nbsp;&nbsp;&nbsp;&quot;gmp&quot;:&nbsp;&quot;6.2.1h23ab428_2&quot;,</pre><pre style=\"margin-top:0\";padding:0>&nbsp;&nbsp;&nbsp;&nbsp;&quot;gmp&quot;:&nbsp;&quot;6.2.1h23ab428_2&quot;,</pre><pre style=\"margin-top:0;padding:0\">&nbsp;&nbsp;&nbsp;&nbsp;&quot;gmpy2&quot;:&nbsp;&quot;2.0.8py39h4b98818_3&quot;,</pre><pre style=\"margin-top:0\";padding:0>&nbsp;&nbsp;&nbsp;&nbsp;&quot;gmpy2&quot;:&nbsp;&quot;2.0.8py39h4b98818_3&quot;,</pre><pre style=\"margin-top:0;padding:0\">&nbsp;&nbsp;&nbsp;&nbsp;&quot;iniconfig&quot;:&nbsp;&quot;1.1.1pypi_0&quot;,</pre><pre style=\"margin-top:0\";padding:0>&nbsp;&nbsp;&nbsp;&nbsp;&quot;iniconfig&quot;:&nbsp;&quot;1.1.1pypi_0&quot;,</pre><pre style=\"margin-top:0;padding:0\">&nbsp;&nbsp;&nbsp;&nbsp;&quot;intel-openmp&quot;:&nbsp;&quot;2021.2.0hecd8cb5_564&quot;,</pre><pre style=\"margin-top:0\";padding:0>&nbsp;&nbsp;&nbsp;&nbsp;&quot;intel-openmp&quot;:&nbsp;&quot;2021.2.0hecd8cb5_564&quot;,</pre><pre style=\"margin-top:0;padding:0\">&nbsp;&nbsp;&nbsp;&nbsp;&quot;ipykernel&quot;:&nbsp;&quot;6.0.0pypi_0&quot;,</pre><pre style=\"margin-top:0\";padding:0>&nbsp;&nbsp;&nbsp;&nbsp;&quot;ipykernel&quot;:&nbsp;&quot;6.0.0pypi_0&quot;,</pre><pre style=\"margin-top:0;padding:0\">&nbsp;&nbsp;&nbsp;&nbsp;&quot;ipython&quot;:&nbsp;&quot;7.25.0pypi_0&quot;,</pre><pre style=\"margin-top:0\";padding:0>&nbsp;&nbsp;&nbsp;&nbsp;&quot;ipython&quot;:&nbsp;&quot;7.25.0pypi_0&quot;,</pre><pre style=\"margin-top:0;padding:0\">&nbsp;&nbsp;&nbsp;&nbsp;&quot;ipython-genutils&quot;:&nbsp;&quot;0.2.0pypi_0&quot;,</pre><pre style=\"margin-top:0\";padding:0>&nbsp;&nbsp;&nbsp;&nbsp;&quot;ipython-genutils&quot;:&nbsp;&quot;0.2.0pypi_0&quot;,</pre><pre style=\"margin-top:0;padding:0\">&nbsp;&nbsp;&nbsp;&nbsp;&quot;jedi&quot;:&nbsp;&quot;0.18.0pypi_0&quot;,</pre><pre style=\"margin-top:0\";padding:0>&nbsp;&nbsp;&nbsp;&nbsp;&quot;jedi&quot;:&nbsp;&quot;0.18.0pypi_0&quot;,</pre><pre style=\"margin-top:0;padding:0\">&nbsp;&nbsp;&nbsp;&nbsp;&quot;jsonschema&quot;:&nbsp;&quot;3.2.0pypi_0&quot;,</pre><pre style=\"margin-top:0\";padding:0>&nbsp;&nbsp;&nbsp;&nbsp;&quot;jsonschema&quot;:&nbsp;&quot;3.2.0pypi_0&quot;,</pre><pre style=\"margin-top:0;padding:0\">&nbsp;&nbsp;&nbsp;&nbsp;&quot;jupyter-client&quot;:&nbsp;&quot;6.1.12pypi_0&quot;,</pre><pre style=\"margin-top:0\";padding:0>&nbsp;&nbsp;&nbsp;&nbsp;&quot;jupyter-client&quot;:&nbsp;&quot;6.1.12pypi_0&quot;,</pre><pre style=\"margin-top:0;padding:0\">&nbsp;&nbsp;&nbsp;&nbsp;&quot;jupyter-core&quot;:&nbsp;&quot;4.7.1pypi_0&quot;,</pre><pre style=\"margin-top:0\";padding:0>&nbsp;&nbsp;&nbsp;&nbsp;&quot;jupyter-core&quot;:&nbsp;&quot;4.7.1pypi_0&quot;,</pre><pre style=\"margin-top:0;padding:0\">&nbsp;&nbsp;&nbsp;&nbsp;&quot;kiwisolver&quot;:&nbsp;&quot;1.3.1pypi_0&quot;,</pre><pre style=\"margin-top:0\";padding:0>&nbsp;&nbsp;&nbsp;&nbsp;&quot;kiwisolver&quot;:&nbsp;&quot;1.3.1pypi_0&quot;,</pre><pre style=\"margin-top:0;padding:0\">&nbsp;&nbsp;&nbsp;&nbsp;&quot;libcxx&quot;:&nbsp;&quot;10.0.01&quot;,</pre><pre style=\"margin-top:0\";padding:0>&nbsp;&nbsp;&nbsp;&nbsp;&quot;libcxx&quot;:&nbsp;&quot;10.0.01&quot;,</pre><pre style=\"margin-top:0;padding:0\">&nbsp;&nbsp;&nbsp;&nbsp;&quot;libffi&quot;:&nbsp;&quot;3.3hb1e8313_2&quot;,</pre><pre style=\"margin-top:0\";padding:0>&nbsp;&nbsp;&nbsp;&nbsp;&quot;libffi&quot;:&nbsp;&quot;3.3hb1e8313_2&quot;,</pre><pre style=\"margin-top:0;padding:0\">&nbsp;&nbsp;&nbsp;&nbsp;&quot;libgfortran&quot;:&nbsp;&quot;3.0.1h93005f0_2&quot;,</pre><pre style=\"margin-top:0\";padding:0>&nbsp;&nbsp;&nbsp;&nbsp;&quot;libgfortran&quot;:&nbsp;&quot;3.0.1h93005f0_2&quot;,</pre><pre style=\"margin-top:0;padding:0\">&nbsp;&nbsp;&nbsp;&nbsp;&quot;matplotlib&quot;:&nbsp;&quot;3.4.2pypi_0&quot;,</pre><pre style=\"margin-top:0\";padding:0>&nbsp;&nbsp;&nbsp;&nbsp;&quot;matplotlib&quot;:&nbsp;&quot;3.4.2pypi_0&quot;,</pre><pre style=\"margin-top:0;padding:0\">&nbsp;&nbsp;&nbsp;&nbsp;&quot;matplotlib-inline&quot;:&nbsp;&quot;0.1.2pypi_0&quot;,</pre><pre style=\"margin-top:0\";padding:0>&nbsp;&nbsp;&nbsp;&nbsp;&quot;matplotlib-inline&quot;:&nbsp;&quot;0.1.2pypi_0&quot;,</pre><pre style=\"margin-top:0;padding:0\">&nbsp;&nbsp;&nbsp;&nbsp;&quot;microbench&quot;:&nbsp;&quot;0.7pypi_0&quot;,</pre><pre style=\"margin-top:0\";padding:0>&nbsp;&nbsp;&nbsp;&nbsp;&quot;microbench&quot;:&nbsp;&quot;0.7pypi_0&quot;,</pre><pre style=\"margin-top:0;padding:0\">&nbsp;&nbsp;&nbsp;&nbsp;&quot;mkl&quot;:&nbsp;&quot;2021.2.0hecd8cb5_269&quot;,</pre><pre style=\"margin-top:0\";padding:0>&nbsp;&nbsp;&nbsp;&nbsp;&quot;mkl&quot;:&nbsp;&quot;2021.2.0hecd8cb5_269&quot;,</pre><pre style=\"margin-top:0;padding:0\">&nbsp;&nbsp;&nbsp;&nbsp;&quot;mkl-service&quot;:&nbsp;&quot;2.3.0py39h9ed2024_1&quot;,</pre><pre style=\"margin-top:0\";padding:0>&nbsp;&nbsp;&nbsp;&nbsp;&quot;mkl-service&quot;:&nbsp;&quot;2.3.0py39h9ed2024_1&quot;,</pre><pre style=\"margin-top:0;padding:0\">&nbsp;&nbsp;&nbsp;&nbsp;&quot;mkl_fft&quot;:&nbsp;&quot;1.3.0py39h4a7008c_2&quot;,</pre><pre style=\"margin-top:0\";padding:0>&nbsp;&nbsp;&nbsp;&nbsp;&quot;mkl_fft&quot;:&nbsp;&quot;1.3.0py39h4a7008c_2&quot;,</pre><pre style=\"margin-top:0;padding:0\">&nbsp;&nbsp;&nbsp;&nbsp;&quot;mkl_random&quot;:&nbsp;&quot;1.2.1py39hb2f4e1b_2&quot;,</pre><pre style=\"margin-top:0\";padding:0>&nbsp;&nbsp;&nbsp;&nbsp;&quot;mkl_random&quot;:&nbsp;&quot;1.2.1py39hb2f4e1b_2&quot;,</pre><pre style=\"margin-top:0;padding:0\">&nbsp;&nbsp;&nbsp;&nbsp;&quot;mpc&quot;:&nbsp;&quot;1.1.0h6ef4df4_1&quot;,</pre><pre style=\"margin-top:0\";padding:0>&nbsp;&nbsp;&nbsp;&nbsp;&quot;mpc&quot;:&nbsp;&quot;1.1.0h6ef4df4_1&quot;,</pre><pre style=\"margin-top:0;padding:0\">&nbsp;&nbsp;&nbsp;&nbsp;&quot;mpfr&quot;:&nbsp;&quot;4.0.2h9066e36_1&quot;,</pre><pre style=\"margin-top:0\";padding:0>&nbsp;&nbsp;&nbsp;&nbsp;&quot;mpfr&quot;:&nbsp;&quot;4.0.2h9066e36_1&quot;,</pre><pre style=\"margin-top:0;padding:0\">&nbsp;&nbsp;&nbsp;&nbsp;&quot;mpmath&quot;:&nbsp;&quot;1.2.1py39hecd8cb5_0&quot;,</pre><pre style=\"margin-top:0\";padding:0>&nbsp;&nbsp;&nbsp;&nbsp;&quot;mpmath&quot;:&nbsp;&quot;1.2.1py39hecd8cb5_0&quot;,</pre><pre style=\"margin-top:0;padding:0\">&nbsp;&nbsp;&nbsp;&nbsp;&quot;nbformat&quot;:&nbsp;&quot;5.1.3pypi_0&quot;,</pre><pre style=\"margin-top:0\";padding:0>&nbsp;&nbsp;&nbsp;&nbsp;&quot;nbformat&quot;:&nbsp;&quot;5.1.3pypi_0&quot;,</pre><pre style=\"margin-top:0;padding:0\">&nbsp;&nbsp;&nbsp;&nbsp;&quot;nbval&quot;:&nbsp;&quot;0.9.6pypi_0&quot;,</pre><pre style=\"margin-top:0\";padding:0>&nbsp;&nbsp;&nbsp;&nbsp;&quot;nbval&quot;:&nbsp;&quot;0.9.6pypi_0&quot;,</pre><pre style=\"margin-top:0;padding:0\">&nbsp;&nbsp;&nbsp;&nbsp;&quot;ncurses&quot;:&nbsp;&quot;6.2h0a44026_1&quot;,</pre><pre style=\"margin-top:0\";padding:0>&nbsp;&nbsp;&nbsp;&nbsp;&quot;ncurses&quot;:&nbsp;&quot;6.2h0a44026_1&quot;,</pre><pre style=\"margin-top:0;padding:0\">&nbsp;&nbsp;&nbsp;&nbsp;&quot;networkx&quot;:&nbsp;&quot;2.5.1pyhd3eb1b0_0&quot;,</pre><pre style=\"margin-top:0\";padding:0>&nbsp;&nbsp;&nbsp;&nbsp;&quot;networkx&quot;:&nbsp;&quot;2.5.1pyhd3eb1b0_0&quot;,</pre><pre style=\"margin-top:0;padding:0\">&nbsp;&nbsp;&nbsp;&nbsp;&quot;nfsim&quot;:&nbsp;&quot;1.12.10&quot;,</pre><pre style=\"margin-top:0\";padding:0>&nbsp;&nbsp;&nbsp;&nbsp;&quot;nfsim&quot;:&nbsp;&quot;1.12.10&quot;,</pre><pre style=\"margin-top:0;padding:0\">&nbsp;&nbsp;&nbsp;&nbsp;&quot;numpy&quot;:&nbsp;&quot;1.21.0pypi_0&quot;,</pre><pre style=\"margin-top:0\";padding:0>&nbsp;&nbsp;&nbsp;&nbsp;&quot;numpy&quot;:&nbsp;&quot;1.21.0pypi_0&quot;,</pre><pre style=\"margin-top:0;padding:0\">&nbsp;&nbsp;&nbsp;&nbsp;&quot;numpy-base&quot;:&nbsp;&quot;1.20.2py39he0bd621_0&quot;,</pre><pre style=\"margin-top:0\";padding:0>&nbsp;&nbsp;&nbsp;&nbsp;&quot;numpy-base&quot;:&nbsp;&quot;1.20.2py39he0bd621_0&quot;,</pre><pre style=\"margin-top:0;padding:0\">&nbsp;&nbsp;&nbsp;&nbsp;&quot;openssl&quot;:&nbsp;&quot;1.1.1kh9ed2024_0&quot;,</pre><pre style=\"margin-top:0\";padding:0>&nbsp;&nbsp;&nbsp;&nbsp;&quot;openssl&quot;:&nbsp;&quot;1.1.1kh9ed2024_0&quot;,</pre><pre style=\"margin-top:0;padding:0\">&nbsp;&nbsp;&nbsp;&nbsp;&quot;packaging&quot;:&nbsp;&quot;20.9pypi_0&quot;,</pre><pre style=\"margin-top:0\";padding:0>&nbsp;&nbsp;&nbsp;&nbsp;&quot;packaging&quot;:&nbsp;&quot;20.9pypi_0&quot;,</pre><pre style=\"margin-top:0;padding:0\">&nbsp;&nbsp;&nbsp;&nbsp;&quot;pandas&quot;:&nbsp;&quot;1.2.5pypi_0&quot;,</pre><pre style=\"margin-top:0\";padding:0>&nbsp;&nbsp;&nbsp;&nbsp;&quot;pandas&quot;:&nbsp;&quot;1.2.5pypi_0&quot;,</pre><pre style=\"margin-top:0;padding:0\">&nbsp;&nbsp;&nbsp;&nbsp;&quot;parso&quot;:&nbsp;&quot;0.8.2pypi_0&quot;,</pre><pre style=\"margin-top:0\";padding:0>&nbsp;&nbsp;&nbsp;&nbsp;&quot;parso&quot;:&nbsp;&quot;0.8.2pypi_0&quot;,</pre><pre style=\"margin-top:0;padding:0\">&nbsp;&nbsp;&nbsp;&nbsp;&quot;pexpect&quot;:&nbsp;&quot;4.8.0pypi_0&quot;,</pre><pre style=\"margin-top:0\";padding:0>&nbsp;&nbsp;&nbsp;&nbsp;&quot;pexpect&quot;:&nbsp;&quot;4.8.0pypi_0&quot;,</pre><pre style=\"margin-top:0;padding:0\">&nbsp;&nbsp;&nbsp;&nbsp;&quot;pickleshare&quot;:&nbsp;&quot;0.7.5pypi_0&quot;,</pre><pre style=\"margin-top:0\";padding:0>&nbsp;&nbsp;&nbsp;&nbsp;&quot;pickleshare&quot;:&nbsp;&quot;0.7.5pypi_0&quot;,</pre><pre style=\"margin-top:0;padding:0\">&nbsp;&nbsp;&nbsp;&nbsp;&quot;pillow&quot;:&nbsp;&quot;8.2.0pypi_0&quot;,</pre><pre style=\"margin-top:0\";padding:0>&nbsp;&nbsp;&nbsp;&nbsp;&quot;pillow&quot;:&nbsp;&quot;8.2.0pypi_0&quot;,</pre><pre style=\"margin-top:0;padding:0\">&nbsp;&nbsp;&nbsp;&nbsp;&quot;pip&quot;:&nbsp;&quot;21.1.3py39hecd8cb5_0&quot;,</pre><pre style=\"margin-top:0\";padding:0>&nbsp;&nbsp;&nbsp;&nbsp;&quot;pip&quot;:&nbsp;&quot;21.1.3py39hecd8cb5_0&quot;,</pre><pre style=\"margin-top:0;padding:0\">&nbsp;&nbsp;&nbsp;&nbsp;&quot;pluggy&quot;:&nbsp;&quot;0.13.1pypi_0&quot;,</pre><pre style=\"margin-top:0\";padding:0>&nbsp;&nbsp;&nbsp;&nbsp;&quot;pluggy&quot;:&nbsp;&quot;0.13.1pypi_0&quot;,</pre><pre style=\"margin-top:0;padding:0\">&nbsp;&nbsp;&nbsp;&nbsp;&quot;prompt-toolkit&quot;:&nbsp;&quot;3.0.19pypi_0&quot;,</pre><pre style=\"margin-top:0\";padding:0>&nbsp;&nbsp;&nbsp;&nbsp;&quot;prompt-toolkit&quot;:&nbsp;&quot;3.0.19pypi_0&quot;,</pre><pre style=\"margin-top:0;padding:0\">&nbsp;&nbsp;&nbsp;&nbsp;&quot;psutil&quot;:&nbsp;&quot;5.8.0pypi_0&quot;,</pre><pre style=\"margin-top:0\";padding:0>&nbsp;&nbsp;&nbsp;&nbsp;&quot;psutil&quot;:&nbsp;&quot;5.8.0pypi_0&quot;,</pre><pre style=\"margin-top:0;padding:0\">&nbsp;&nbsp;&nbsp;&nbsp;&quot;ptyprocess&quot;:&nbsp;&quot;0.7.0pypi_0&quot;,</pre><pre style=\"margin-top:0\";padding:0>&nbsp;&nbsp;&nbsp;&nbsp;&quot;ptyprocess&quot;:&nbsp;&quot;0.7.0pypi_0&quot;,</pre><pre style=\"margin-top:0;padding:0\">&nbsp;&nbsp;&nbsp;&nbsp;&quot;py&quot;:&nbsp;&quot;1.10.0pypi_0&quot;,</pre><pre style=\"margin-top:0\";padding:0>&nbsp;&nbsp;&nbsp;&nbsp;&quot;py&quot;:&nbsp;&quot;1.10.0pypi_0&quot;,</pre><pre style=\"margin-top:0;padding:0\">&nbsp;&nbsp;&nbsp;&nbsp;&quot;pygments&quot;:&nbsp;&quot;2.9.0pypi_0&quot;,</pre><pre style=\"margin-top:0\";padding:0>&nbsp;&nbsp;&nbsp;&nbsp;&quot;pygments&quot;:&nbsp;&quot;2.9.0pypi_0&quot;,</pre><pre style=\"margin-top:0;padding:0\">&nbsp;&nbsp;&nbsp;&nbsp;&quot;pyparsing&quot;:&nbsp;&quot;2.4.7pypi_0&quot;,</pre><pre style=\"margin-top:0\";padding:0>&nbsp;&nbsp;&nbsp;&nbsp;&quot;pyparsing&quot;:&nbsp;&quot;2.4.7pypi_0&quot;,</pre><pre style=\"margin-top:0;padding:0\">&nbsp;&nbsp;&nbsp;&nbsp;&quot;pyrsistent&quot;:&nbsp;&quot;0.18.0pypi_0&quot;,</pre><pre style=\"margin-top:0\";padding:0>&nbsp;&nbsp;&nbsp;&nbsp;&quot;pyrsistent&quot;:&nbsp;&quot;0.18.0pypi_0&quot;,</pre><pre style=\"margin-top:0;padding:0\">&nbsp;&nbsp;&nbsp;&nbsp;&quot;pysb&quot;:&nbsp;&quot;1.13.0pyh39e3cac_0&quot;,</pre><pre style=\"margin-top:0\";padding:0>&nbsp;&nbsp;&nbsp;&nbsp;&quot;pysb&quot;:&nbsp;&quot;1.13.0pyh39e3cac_0&quot;,</pre><pre style=\"margin-top:0;padding:0\">&nbsp;&nbsp;&nbsp;&nbsp;&quot;pytest&quot;:&nbsp;&quot;6.2.4pypi_0&quot;,</pre><pre style=\"margin-top:0\";padding:0>&nbsp;&nbsp;&nbsp;&nbsp;&quot;pytest&quot;:&nbsp;&quot;6.2.4pypi_0&quot;,</pre><pre style=\"margin-top:0;padding:0\">&nbsp;&nbsp;&nbsp;&nbsp;&quot;python&quot;:&nbsp;&quot;3.9.5h88f2d9e_3&quot;,</pre><pre style=\"margin-top:0\";padding:0>&nbsp;&nbsp;&nbsp;&nbsp;&quot;python&quot;:&nbsp;&quot;3.9.5h88f2d9e_3&quot;,</pre><pre style=\"margin-top:0;padding:0\">&nbsp;&nbsp;&nbsp;&nbsp;&quot;python-dateutil&quot;:&nbsp;&quot;2.8.1pyhd3eb1b0_0&quot;,</pre><pre style=\"margin-top:0\";padding:0>&nbsp;&nbsp;&nbsp;&nbsp;&quot;python-dateutil&quot;:&nbsp;&quot;2.8.1pyhd3eb1b0_0&quot;,</pre><pre style=\"margin-top:0;padding:0\">&nbsp;&nbsp;&nbsp;&nbsp;&quot;pytz&quot;:&nbsp;&quot;2021.1pypi_0&quot;,</pre><pre style=\"margin-top:0\";padding:0>&nbsp;&nbsp;&nbsp;&nbsp;&quot;pytz&quot;:&nbsp;&quot;2021.1pypi_0&quot;,</pre><pre style=\"margin-top:0;padding:0\">&nbsp;&nbsp;&nbsp;&nbsp;&quot;pyzmq&quot;:&nbsp;&quot;22.1.0pypi_0&quot;,</pre><pre style=\"margin-top:0\";padding:0>&nbsp;&nbsp;&nbsp;&nbsp;&quot;pyzmq&quot;:&nbsp;&quot;22.1.0pypi_0&quot;,</pre><pre style=\"margin-top:0;padding:0\">&nbsp;&nbsp;&nbsp;&nbsp;&quot;readline&quot;:&nbsp;&quot;8.1h9ed2024_0&quot;,</pre><pre style=\"margin-top:0\";padding:0>&nbsp;&nbsp;&nbsp;&nbsp;&quot;readline&quot;:&nbsp;&quot;8.1h9ed2024_0&quot;,</pre><pre style=\"margin-top:0;padding:0\">&nbsp;&nbsp;&nbsp;&nbsp;&quot;scipy&quot;:&nbsp;&quot;1.7.0pypi_0&quot;,</pre><pre style=\"margin-top:0\";padding:0>&nbsp;&nbsp;&nbsp;&nbsp;&quot;scipy&quot;:&nbsp;&quot;1.7.0pypi_0&quot;,</pre><pre style=\"margin-top:0;padding:0\">&nbsp;&nbsp;&nbsp;&nbsp;&quot;seaborn&quot;:&nbsp;&quot;0.11.1pypi_0&quot;,</pre><pre style=\"margin-top:0\";padding:0>&nbsp;&nbsp;&nbsp;&nbsp;&quot;seaborn&quot;:&nbsp;&quot;0.11.1pypi_0&quot;,</pre><pre style=\"margin-top:0;padding:0\">&nbsp;&nbsp;&nbsp;&nbsp;&quot;setuptools&quot;:&nbsp;&quot;52.0.0py39hecd8cb5_0&quot;,</pre><pre style=\"margin-top:0\";padding:0>&nbsp;&nbsp;&nbsp;&nbsp;&quot;setuptools&quot;:&nbsp;&quot;52.0.0py39hecd8cb5_0&quot;,</pre><pre style=\"margin-top:0;padding:0\">&nbsp;&nbsp;&nbsp;&nbsp;&quot;six&quot;:&nbsp;&quot;1.16.0pyhd3eb1b0_0&quot;,</pre><pre style=\"margin-top:0\";padding:0>&nbsp;&nbsp;&nbsp;&nbsp;&quot;six&quot;:&nbsp;&quot;1.16.0pyhd3eb1b0_0&quot;,</pre><pre style=\"margin-top:0;padding:0\">&nbsp;&nbsp;&nbsp;&nbsp;&quot;sqlite&quot;:&nbsp;&quot;3.36.0hce871da_0&quot;,</pre><pre style=\"margin-top:0\";padding:0>&nbsp;&nbsp;&nbsp;&nbsp;&quot;sqlite&quot;:&nbsp;&quot;3.36.0hce871da_0&quot;,</pre><pre style=\"margin-top:0;padding:0\">&nbsp;&nbsp;&nbsp;&nbsp;&quot;sympy&quot;:&nbsp;&quot;1.8py39hecd8cb5_0&quot;,</pre><pre style=\"margin-top:0\";padding:0>&nbsp;&nbsp;&nbsp;&nbsp;&quot;sympy&quot;:&nbsp;&quot;1.8py39hecd8cb5_0&quot;,</pre><pre style=\"margin-top:0;padding:0\">&nbsp;&nbsp;&nbsp;&nbsp;&quot;tk&quot;:&nbsp;&quot;8.6.10hb0a8c7a_0&quot;,</pre><pre style=\"margin-top:0\";padding:0>&nbsp;&nbsp;&nbsp;&nbsp;&quot;tk&quot;:&nbsp;&quot;8.6.10hb0a8c7a_0&quot;,</pre><pre style=\"margin-top:0;padding:0\">&nbsp;&nbsp;&nbsp;&nbsp;&quot;toml&quot;:&nbsp;&quot;0.10.2pypi_0&quot;,</pre><pre style=\"margin-top:0\";padding:0>&nbsp;&nbsp;&nbsp;&nbsp;&quot;toml&quot;:&nbsp;&quot;0.10.2pypi_0&quot;,</pre><pre style=\"margin-top:0;padding:0\">&nbsp;&nbsp;&nbsp;&nbsp;&quot;tornado&quot;:&nbsp;&quot;6.1pypi_0&quot;,</pre><pre style=\"margin-top:0\";padding:0>&nbsp;&nbsp;&nbsp;&nbsp;&quot;tornado&quot;:&nbsp;&quot;6.1pypi_0&quot;,</pre><pre style=\"margin-top:0;padding:0\">&nbsp;&nbsp;&nbsp;&nbsp;&quot;traitlets&quot;:&nbsp;&quot;5.0.5pypi_0&quot;,</pre><pre style=\"margin-top:0\";padding:0>&nbsp;&nbsp;&nbsp;&nbsp;&quot;traitlets&quot;:&nbsp;&quot;5.0.5pypi_0&quot;,</pre><pre style=\"margin-top:0;padding:0\">&nbsp;&nbsp;&nbsp;&nbsp;&quot;tzdata&quot;:&nbsp;&quot;2021ah52ac0ba_0&quot;,</pre><pre style=\"margin-top:0\";padding:0>&nbsp;&nbsp;&nbsp;&nbsp;&quot;tzdata&quot;:&nbsp;&quot;2021ah52ac0ba_0&quot;,</pre><pre style=\"margin-top:0;padding:0\">&nbsp;&nbsp;&nbsp;&nbsp;&quot;wcwidth&quot;:&nbsp;&quot;0.2.5pypi_0&quot;,</pre><pre style=\"margin-top:0\";padding:0>&nbsp;&nbsp;&nbsp;&nbsp;&quot;wcwidth&quot;:&nbsp;&quot;0.2.5pypi_0&quot;,</pre><pre style=\"margin-top:0;padding:0\">&nbsp;&nbsp;&nbsp;&nbsp;&quot;wheel&quot;:&nbsp;&quot;0.36.2pyhd3eb1b0_0&quot;,</pre><pre style=\"margin-top:0\";padding:0>&nbsp;&nbsp;&nbsp;&nbsp;&quot;wheel&quot;:&nbsp;&quot;0.36.2pyhd3eb1b0_0&quot;,</pre><pre style=\"margin-top:0;padding:0\">&nbsp;&nbsp;&nbsp;&nbsp;&quot;xz&quot;:&nbsp;&quot;5.2.5h1de35cc_0&quot;,</pre><pre style=\"margin-top:0\";padding:0>&nbsp;&nbsp;&nbsp;&nbsp;&quot;xz&quot;:&nbsp;&quot;5.2.5h1de35cc_0&quot;,</pre><pre style=\"margin-top:0;padding:0\">&nbsp;&nbsp;&nbsp;&nbsp;&quot;zlib&quot;:&nbsp;&quot;1.2.11h1de35cc_3&quot;</pre><pre style=\"margin-top:0\";padding:0>&nbsp;&nbsp;&nbsp;&nbsp;&quot;zlib&quot;:&nbsp;&quot;1.2.11h1de35cc_3&quot;</pre><pre style=\"margin-top:0;padding:0\">&nbsp;&nbsp;},</pre><pre style=\"margin-top:0\";padding:0>&nbsp;&nbsp;},</pre><pre style=\"margin-top:0;padding:0\">&nbsp;&nbsp;&quot;function_name&quot;:&nbsp;<span style=\"color: red;\">&quot;fig_4a&quot;,</span></pre><pre style=\"margin-top:0\";padding:0>&nbsp;&nbsp;&quot;function_name&quot;:&nbsp;<span style=\"color: red;\">&quot;fig_4b&quot;,</span></pre><pre style=\"margin-top:0;padding:0\">&nbsp;&nbsp;&quot;hostname&quot;:&nbsp;&quot;bismo.lubbock.uk&quot;,</pre><pre style=\"margin-top:0\";padding:0>&nbsp;&nbsp;&quot;hostname&quot;:&nbsp;&quot;bismo.lubbock.uk&quot;,</pre><pre style=\"margin-top:0;padding:0\">&nbsp;&nbsp;&quot;operating_system&quot;:&nbsp;&quot;darwin&quot;,</pre><pre style=\"margin-top:0\";padding:0>&nbsp;&nbsp;&quot;operating_system&quot;:&nbsp;&quot;darwin&quot;,</pre><pre style=\"margin-top:0;padding:0\">&nbsp;&nbsp;&quot;telemetry&quot;:&nbsp;[</pre><pre style=\"margin-top:0\";padding:0>&nbsp;&nbsp;&quot;telemetry&quot;:&nbsp;[</pre><pre style=\"margin-top:0;padding:0\">&nbsp;&nbsp;&nbsp;&nbsp;{</pre><pre style=\"margin-top:0\";padding:0>&nbsp;&nbsp;&nbsp;&nbsp;{</pre><pre style=\"margin-top:0;padding:0\">&nbsp;&nbsp;&nbsp;&nbsp;&nbsp;&nbsp;&quot;timestamp&quot;:&nbsp;<span style=\"color: red;\">&quot;2021-06-30T20:31:32.884306&quot;,</span></pre><pre style=\"margin-top:0\";padding:0>&nbsp;&nbsp;&nbsp;&nbsp;&nbsp;&nbsp;&quot;timestamp&quot;:&nbsp;<span style=\"color: red;\">&quot;2021-06-30T20:31:38.431153&quot;,</span></pre><pre style=\"margin-top:0;padding:0\">&nbsp;&nbsp;&nbsp;&nbsp;&nbsp;&nbsp;&quot;process_cpu_percent&quot;:&nbsp;0.0,</pre><pre style=\"margin-top:0\";padding:0>&nbsp;&nbsp;&nbsp;&nbsp;&nbsp;&nbsp;&quot;process_cpu_percent&quot;:&nbsp;0.0,</pre><pre style=\"margin-top:0;padding:0\">&nbsp;&nbsp;&nbsp;&nbsp;&nbsp;&nbsp;&quot;process_mem&quot;:&nbsp;[</pre><pre style=\"margin-top:0\";padding:0>&nbsp;&nbsp;&nbsp;&nbsp;&nbsp;&nbsp;&quot;process_mem&quot;:&nbsp;[</pre><pre style=\"margin-top:0;padding:0\">&nbsp;&nbsp;&nbsp;&nbsp;&nbsp;&nbsp;&nbsp;&nbsp;<span style=\"color: red;\">181669888,</span></pre><pre style=\"margin-top:0\";padding:0>&nbsp;&nbsp;&nbsp;&nbsp;&nbsp;&nbsp;&nbsp;&nbsp;<span style=\"color: red;\">205258752,</span></pre><pre style=\"margin-top:0;padding:0\">&nbsp;&nbsp;&nbsp;&nbsp;&nbsp;&nbsp;&nbsp;&nbsp;<span style=\"color: red;\">5706682368,</span></pre><pre style=\"margin-top:0\";padding:0>&nbsp;&nbsp;&nbsp;&nbsp;&nbsp;&nbsp;&nbsp;&nbsp;<span style=\"color: red;\">5806825472,</span></pre><pre style=\"margin-top:0;padding:0\">&nbsp;&nbsp;&nbsp;&nbsp;&nbsp;&nbsp;&nbsp;&nbsp;<span style=\"color: red;\">73570,</span></pre><pre style=\"margin-top:0\";padding:0>&nbsp;&nbsp;&nbsp;&nbsp;&nbsp;&nbsp;&nbsp;&nbsp;<span style=\"color: red;\">95437,</span></pre><pre style=\"margin-top:0;padding:0\">&nbsp;&nbsp;&nbsp;&nbsp;&nbsp;&nbsp;&nbsp;&nbsp;<span style=\"color: red;\">2360,</span></pre><pre style=\"margin-top:0\";padding:0>&nbsp;&nbsp;&nbsp;&nbsp;&nbsp;&nbsp;&nbsp;&nbsp;<span style=\"color: red;\">2366,</span></pre><pre style=\"margin-top:0;padding:0\">&nbsp;&nbsp;&nbsp;&nbsp;&nbsp;&nbsp;&nbsp;&nbsp;<span style=\"color: red;\">152322048</span></pre><pre style=\"margin-top:0\";padding:0>&nbsp;&nbsp;&nbsp;&nbsp;&nbsp;&nbsp;&nbsp;&nbsp;<span style=\"color: red;\">167645184</span></pre><pre style=\"margin-top:0;padding:0\">&nbsp;<span style=\"color: red;\"></span>&nbsp;<span style=\"color: red;\"></span>&nbsp;<span style=\"color: red;\"></span>&nbsp;<span style=\"color: red;\"></span>&nbsp;<span style=\"color: red;\"></span>&nbsp;<span style=\"color: red;\">],</span></pre><pre style=\"margin-top:0\";padding:0></pre><pre style=\"margin-top:0;padding:0\">&nbsp;<span style=\"color: red;\"></span>&nbsp;<span style=\"color: red;\"></span>&nbsp;<span style=\"color: red;\"></span>&nbsp;<span style=\"color: red;\"></span>&nbsp;<span style=\"color: red;\"></span>&nbsp;<span style=\"color: red;\">&quot;sys_swap&quot;:</span>&nbsp;<span style=\"color: red;\">[</span></pre><pre style=\"margin-top:0\";padding:0></pre><pre style=\"margin-top:0;padding:0\">&nbsp;<span style=\"color: red;\"></span>&nbsp;<span style=\"color: red;\"></span>&nbsp;<span style=\"color: red;\"></span>&nbsp;<span style=\"color: red;\"></span>&nbsp;<span style=\"color: red;\"></span>&nbsp;<span style=\"color: red;\"></span>&nbsp;<span style=\"color: red;\"></span>&nbsp;<span style=\"color: red;\">0,</span></pre><pre style=\"margin-top:0\";padding:0></pre><pre style=\"margin-top:0;padding:0\">&nbsp;<span style=\"color: red;\"></span>&nbsp;<span style=\"color: red;\"></span>&nbsp;<span style=\"color: red;\"></span>&nbsp;<span style=\"color: red;\"></span>&nbsp;<span style=\"color: red;\"></span>&nbsp;<span style=\"color: red;\"></span>&nbsp;<span style=\"color: red;\"></span>&nbsp;<span style=\"color: red;\">0,</span></pre><pre style=\"margin-top:0\";padding:0></pre><pre style=\"margin-top:0;padding:0\">&nbsp;<span style=\"color: red;\"></span>&nbsp;<span style=\"color: red;\"></span>&nbsp;<span style=\"color: red;\"></span>&nbsp;<span style=\"color: red;\"></span>&nbsp;<span style=\"color: red;\"></span>&nbsp;<span style=\"color: red;\"></span>&nbsp;<span style=\"color: red;\"></span>&nbsp;<span style=\"color: red;\">0,</span></pre><pre style=\"margin-top:0\";padding:0></pre><pre style=\"margin-top:0;padding:0\">&nbsp;<span style=\"color: red;\"></span>&nbsp;<span style=\"color: red;\"></span>&nbsp;<span style=\"color: red;\"></span>&nbsp;<span style=\"color: red;\"></span>&nbsp;<span style=\"color: red;\"></span>&nbsp;<span style=\"color: red;\"></span>&nbsp;<span style=\"color: red;\"></span>&nbsp;<span style=\"color: red;\">0.0,</span></pre><pre style=\"margin-top:0\";padding:0></pre><pre style=\"margin-top:0;padding:0\">&nbsp;<span style=\"color: red;\"></span>&nbsp;<span style=\"color: red;\"></span>&nbsp;<span style=\"color: red;\"></span>&nbsp;<span style=\"color: red;\"></span>&nbsp;<span style=\"color: red;\"></span>&nbsp;<span style=\"color: red;\"></span>&nbsp;<span style=\"color: red;\"></span>&nbsp;<span style=\"color: red;\">14821355520,</span></pre><pre style=\"margin-top:0\";padding:0></pre><pre style=\"margin-top:0;padding:0\">&nbsp;<span style=\"color: red;\"></span>&nbsp;<span style=\"color: red;\"></span>&nbsp;<span style=\"color: red;\"></span>&nbsp;<span style=\"color: red;\"></span>&nbsp;<span style=\"color: red;\"></span>&nbsp;<span style=\"color: red;\"></span>&nbsp;<span style=\"color: red;\"></span>&nbsp;<span style=\"color: red;\">30523392</span></pre><pre style=\"margin-top:0\";padding:0></pre><pre style=\"margin-top:0;padding:0\">&nbsp;<span style=\"color: red;\"></span>&nbsp;<span style=\"color: red;\"></span>&nbsp;<span style=\"color: red;\"></span>&nbsp;<span style=\"color: red;\"></span>&nbsp;<span style=\"color: red;\"></span>&nbsp;<span style=\"color: red;\">],</span></pre><pre style=\"margin-top:0\";padding:0></pre><pre style=\"margin-top:0;padding:0\">&nbsp;<span style=\"color: red;\"></span>&nbsp;<span style=\"color: red;\"></span>&nbsp;<span style=\"color: red;\"></span>&nbsp;<span style=\"color: red;\"></span>&nbsp;<span style=\"color: red;\"></span>&nbsp;<span style=\"color: red;\">&quot;sys_mem&quot;:</span>&nbsp;<span style=\"color: red;\">[</span></pre><pre style=\"margin-top:0\";padding:0></pre><pre style=\"margin-top:0;padding:0\">&nbsp;<span style=\"color: red;\"></span>&nbsp;<span style=\"color: red;\"></span>&nbsp;<span style=\"color: red;\"></span>&nbsp;<span style=\"color: red;\"></span>&nbsp;<span style=\"color: red;\"></span>&nbsp;<span style=\"color: red;\"></span>&nbsp;<span style=\"color: red;\"></span>&nbsp;<span style=\"color: red;\">34359738368,</span></pre><pre style=\"margin-top:0\";padding:0></pre><pre style=\"margin-top:0;padding:0\">&nbsp;<span style=\"color: red;\"></span>&nbsp;<span style=\"color: red;\"></span>&nbsp;<span style=\"color: red;\"></span>&nbsp;<span style=\"color: red;\"></span>&nbsp;<span style=\"color: red;\"></span>&nbsp;<span style=\"color: red;\"></span>&nbsp;<span style=\"color: red;\"></span>&nbsp;<span style=\"color: red;\">14543343616,</span></pre><pre style=\"margin-top:0\";padding:0></pre><pre style=\"margin-top:0;padding:0\">&nbsp;<span style=\"color: red;\"></span>&nbsp;<span style=\"color: red;\"></span>&nbsp;<span style=\"color: red;\"></span>&nbsp;<span style=\"color: red;\"></span>&nbsp;<span style=\"color: red;\"></span>&nbsp;<span style=\"color: red;\"></span>&nbsp;<span style=\"color: red;\"></span>&nbsp;<span style=\"color: red;\">57.7,</span></pre><pre style=\"margin-top:0\";padding:0></pre><pre style=\"margin-top:0;padding:0\">&nbsp;<span style=\"color: red;\"></span>&nbsp;<span style=\"color: red;\"></span>&nbsp;<span style=\"color: red;\"></span>&nbsp;<span style=\"color: red;\"></span>&nbsp;<span style=\"color: red;\"></span>&nbsp;<span style=\"color: red;\"></span>&nbsp;<span style=\"color: red;\"></span>&nbsp;<span style=\"color: red;\">17957937152,</span></pre><pre style=\"margin-top:0\";padding:0></pre><pre style=\"margin-top:0;padding:0\">&nbsp;<span style=\"color: red;\"></span>&nbsp;<span style=\"color: red;\"></span>&nbsp;<span style=\"color: red;\"></span>&nbsp;<span style=\"color: red;\"></span>&nbsp;<span style=\"color: red;\"></span>&nbsp;<span style=\"color: red;\"></span>&nbsp;<span style=\"color: red;\"></span>&nbsp;<span style=\"color: red;\">260452352,</span></pre><pre style=\"margin-top:0\";padding:0></pre><pre style=\"margin-top:0;padding:0\">&nbsp;<span style=\"color: red;\"></span>&nbsp;<span style=\"color: red;\"></span>&nbsp;<span style=\"color: red;\"></span>&nbsp;<span style=\"color: red;\"></span>&nbsp;<span style=\"color: red;\"></span>&nbsp;<span style=\"color: red;\"></span>&nbsp;<span style=\"color: red;\"></span>&nbsp;<span style=\"color: red;\">14284685312,</span></pre><pre style=\"margin-top:0\";padding:0></pre><pre style=\"margin-top:0;padding:0\">&nbsp;<span style=\"color: red;\"></span>&nbsp;<span style=\"color: red;\"></span>&nbsp;<span style=\"color: red;\"></span>&nbsp;<span style=\"color: red;\"></span>&nbsp;<span style=\"color: red;\"></span>&nbsp;<span style=\"color: red;\"></span>&nbsp;<span style=\"color: red;\"></span>&nbsp;<span style=\"color: red;\">14206840832,</span></pre><pre style=\"margin-top:0\";padding:0></pre><pre style=\"margin-top:0;padding:0\">&nbsp;<span style=\"color: red;\"></span>&nbsp;<span style=\"color: red;\"></span>&nbsp;<span style=\"color: red;\"></span>&nbsp;<span style=\"color: red;\"></span>&nbsp;<span style=\"color: red;\"></span>&nbsp;<span style=\"color: red;\"></span>&nbsp;<span style=\"color: red;\"></span>&nbsp;<span style=\"color: red;\">3673251840</span></pre><pre style=\"margin-top:0\";padding:0></pre><pre style=\"margin-top:0;padding:0\">&nbsp;<span style=\"color: red;\"></span>&nbsp;<span style=\"color: red;\"></span>&nbsp;<span style=\"color: red;\"></span>&nbsp;<span style=\"color: red;\"></span>&nbsp;<span style=\"color: red;\"></span>&nbsp;<span style=\"color: red;\">],</span></pre><pre style=\"margin-top:0\";padding:0></pre><pre style=\"margin-top:0;padding:0\">&nbsp;<span style=\"color: red;\"></span>&nbsp;<span style=\"color: red;\"></span>&nbsp;<span style=\"color: red;\"></span>&nbsp;<span style=\"color: red;\"></span>&nbsp;<span style=\"color: red;\"></span>&nbsp;<span style=\"color: red;\">&quot;cpu_freq_current&quot;:</span>&nbsp;<span style=\"color: red;\">2900,</span></pre><pre style=\"margin-top:0\";padding:0></pre><pre style=\"margin-top:0;padding:0\">&nbsp;<span style=\"color: red;\"></span>&nbsp;<span style=\"color: red;\"></span>&nbsp;<span style=\"color: red;\"></span>&nbsp;<span style=\"color: red;\"></span>&nbsp;<span style=\"color: red;\"></span>&nbsp;<span style=\"color: red;\">&quot;sys_cpu_percent&quot;:</span>&nbsp;<span style=\"color: red;\">12.6</span></pre><pre style=\"margin-top:0\";padding:0></pre><pre style=\"margin-top:0;padding:0\">&nbsp;<span style=\"color: red;\"></span>&nbsp;<span style=\"color: red;\"></span>&nbsp;<span style=\"color: red;\"></span>&nbsp;<span style=\"color: red;\">},</span></pre><pre style=\"margin-top:0\";padding:0></pre><pre style=\"margin-top:0;padding:0\">&nbsp;<span style=\"color: red;\"></span>&nbsp;<span style=\"color: red;\"></span>&nbsp;<span style=\"color: red;\"></span>&nbsp;<span style=\"color: red;\">{</span></pre><pre style=\"margin-top:0\";padding:0></pre><pre style=\"margin-top:0;padding:0\">&nbsp;<span style=\"color: red;\"></span>&nbsp;<span style=\"color: red;\"></span>&nbsp;<span style=\"color: red;\"></span>&nbsp;<span style=\"color: red;\"></span>&nbsp;<span style=\"color: red;\"></span>&nbsp;<span style=\"color: red;\">&quot;timestamp&quot;:</span>&nbsp;<span style=\"color: red;\">&quot;2021-06-30T20:31:35.144748&quot;,</span></pre><pre style=\"margin-top:0\";padding:0></pre><pre style=\"margin-top:0;padding:0\">&nbsp;<span style=\"color: red;\"></span>&nbsp;<span style=\"color: red;\"></span>&nbsp;<span style=\"color: red;\"></span>&nbsp;<span style=\"color: red;\"></span>&nbsp;<span style=\"color: red;\"></span>&nbsp;<span style=\"color: red;\">&quot;process_cpu_percent&quot;:</span>&nbsp;<span style=\"color: red;\">0.0,</span></pre><pre style=\"margin-top:0\";padding:0></pre><pre style=\"margin-top:0;padding:0\">&nbsp;<span style=\"color: red;\"></span>&nbsp;<span style=\"color: red;\"></span>&nbsp;<span style=\"color: red;\"></span>&nbsp;<span style=\"color: red;\"></span>&nbsp;<span style=\"color: red;\"></span>&nbsp;<span style=\"color: red;\">&quot;process_mem&quot;:</span>&nbsp;<span style=\"color: red;\">[</span></pre><pre style=\"margin-top:0\";padding:0></pre><pre style=\"margin-top:0;padding:0\">&nbsp;<span style=\"color: red;\"></span>&nbsp;<span style=\"color: red;\"></span>&nbsp;<span style=\"color: red;\"></span>&nbsp;<span style=\"color: red;\"></span>&nbsp;<span style=\"color: red;\"></span>&nbsp;<span style=\"color: red;\"></span>&nbsp;<span style=\"color: red;\"></span>&nbsp;<span style=\"color: red;\">193040384,</span></pre><pre style=\"margin-top:0\";padding:0></pre><pre style=\"margin-top:0;padding:0\">&nbsp;<span style=\"color: red;\"></span>&nbsp;<span style=\"color: red;\"></span>&nbsp;<span style=\"color: red;\"></span>&nbsp;<span style=\"color: red;\"></span>&nbsp;<span style=\"color: red;\"></span>&nbsp;<span style=\"color: red;\"></span>&nbsp;<span style=\"color: red;\"></span>&nbsp;<span style=\"color: red;\">5707796480,</span></pre><pre style=\"margin-top:0\";padding:0></pre><pre style=\"margin-top:0;padding:0\">&nbsp;<span style=\"color: red;\"></span>&nbsp;<span style=\"color: red;\"></span>&nbsp;<span style=\"color: red;\"></span>&nbsp;<span style=\"color: red;\"></span>&nbsp;<span style=\"color: red;\"></span>&nbsp;<span style=\"color: red;\"></span>&nbsp;<span style=\"color: red;\"></span>&nbsp;<span style=\"color: red;\">80923,</span></pre><pre style=\"margin-top:0\";padding:0></pre><pre style=\"margin-top:0;padding:0\">&nbsp;<span style=\"color: red;\"></span>&nbsp;<span style=\"color: red;\"></span>&nbsp;<span style=\"color: red;\"></span>&nbsp;<span style=\"color: red;\"></span>&nbsp;<span style=\"color: red;\"></span>&nbsp;<span style=\"color: red;\"></span>&nbsp;<span style=\"color: red;\"></span>&nbsp;<span style=\"color: red;\">2360,</span></pre><pre style=\"margin-top:0\";padding:0></pre><pre style=\"margin-top:0;padding:0\">&nbsp;<span style=\"color: red;\"></span>&nbsp;<span style=\"color: red;\"></span>&nbsp;<span style=\"color: red;\"></span>&nbsp;<span style=\"color: red;\"></span>&nbsp;<span style=\"color: red;\"></span>&nbsp;<span style=\"color: red;\"></span>&nbsp;<span style=\"color: red;\"></span>&nbsp;<span style=\"color: red;\">161890304</span></pre><pre style=\"margin-top:0\";padding:0></pre><pre style=\"margin-top:0;padding:0\">&nbsp;<span style=\"color: red;\"></span>&nbsp;<span style=\"color: red;\"></span>&nbsp;<span style=\"color: red;\"></span>&nbsp;<span style=\"color: red;\"></span>&nbsp;<span style=\"color: red;\"></span>&nbsp;<span style=\"color: red;\">],</span></pre><pre style=\"margin-top:0\";padding:0></pre><pre style=\"margin-top:0;padding:0\">&nbsp;<span style=\"color: red;\"></span>&nbsp;<span style=\"color: red;\"></span>&nbsp;<span style=\"color: red;\"></span>&nbsp;<span style=\"color: red;\"></span>&nbsp;<span style=\"color: red;\"></span>&nbsp;<span style=\"color: red;\">&quot;sys_swap&quot;:</span>&nbsp;<span style=\"color: red;\">[</span></pre><pre style=\"margin-top:0\";padding:0></pre><pre style=\"margin-top:0;padding:0\">&nbsp;<span style=\"color: red;\"></span>&nbsp;<span style=\"color: red;\"></span>&nbsp;<span style=\"color: red;\"></span>&nbsp;<span style=\"color: red;\"></span>&nbsp;<span style=\"color: red;\"></span>&nbsp;<span style=\"color: red;\"></span>&nbsp;<span style=\"color: red;\"></span>&nbsp;<span style=\"color: red;\">0,</span></pre><pre style=\"margin-top:0\";padding:0></pre><pre style=\"margin-top:0;padding:0\">&nbsp;<span style=\"color: red;\"></span>&nbsp;<span style=\"color: red;\"></span>&nbsp;<span style=\"color: red;\"></span>&nbsp;<span style=\"color: red;\"></span>&nbsp;<span style=\"color: red;\"></span>&nbsp;<span style=\"color: red;\"></span>&nbsp;<span style=\"color: red;\"></span>&nbsp;<span style=\"color: red;\">0,</span></pre><pre style=\"margin-top:0\";padding:0></pre><pre style=\"margin-top:0;padding:0\">&nbsp;<span style=\"color: red;\"></span>&nbsp;<span style=\"color: red;\"></span>&nbsp;<span style=\"color: red;\"></span>&nbsp;<span style=\"color: red;\"></span>&nbsp;<span style=\"color: red;\"></span>&nbsp;<span style=\"color: red;\"></span>&nbsp;<span style=\"color: red;\"></span>&nbsp;<span style=\"color: red;\">0,</span></pre><pre style=\"margin-top:0\";padding:0></pre><pre style=\"margin-top:0;padding:0\">&nbsp;<span style=\"color: red;\"></span>&nbsp;<span style=\"color: red;\"></span>&nbsp;<span style=\"color: red;\"></span>&nbsp;<span style=\"color: red;\"></span>&nbsp;<span style=\"color: red;\"></span>&nbsp;<span style=\"color: red;\"></span>&nbsp;<span style=\"color: red;\"></span>&nbsp;<span style=\"color: red;\">0.0,</span></pre><pre style=\"margin-top:0\";padding:0></pre><pre style=\"margin-top:0;padding:0\">&nbsp;<span style=\"color: red;\"></span>&nbsp;<span style=\"color: red;\"></span>&nbsp;<span style=\"color: red;\"></span>&nbsp;<span style=\"color: red;\"></span>&nbsp;<span style=\"color: red;\"></span>&nbsp;<span style=\"color: red;\"></span>&nbsp;<span style=\"color: red;\"></span>&nbsp;<span style=\"color: red;\">14821355520,</span></pre><pre style=\"margin-top:0\";padding:0></pre><pre style=\"margin-top:0;padding:0\">&nbsp;<span style=\"color: red;\"></span>&nbsp;<span style=\"color: red;\"></span>&nbsp;<span style=\"color: red;\"></span>&nbsp;<span style=\"color: red;\"></span>&nbsp;<span style=\"color: red;\"></span>&nbsp;<span style=\"color: red;\"></span>&nbsp;<span style=\"color: red;\"></span>&nbsp;<span style=\"color: red;\">30523392</span></pre><pre style=\"margin-top:0\";padding:0></pre><pre style=\"margin-top:0;padding:0\">&nbsp;<span style=\"color: red;\"></span>&nbsp;<span style=\"color: red;\"></span>&nbsp;<span style=\"color: red;\"></span>&nbsp;<span style=\"color: red;\"></span>&nbsp;<span style=\"color: red;\"></span>&nbsp;<span style=\"color: red;\">],</span></pre><pre style=\"margin-top:0\";padding:0></pre><pre style=\"margin-top:0;padding:0\">&nbsp;<span style=\"color: red;\"></span>&nbsp;<span style=\"color: red;\"></span>&nbsp;<span style=\"color: red;\"></span>&nbsp;<span style=\"color: red;\"></span>&nbsp;<span style=\"color: red;\"></span>&nbsp;<span style=\"color: red;\">&quot;sys_mem&quot;:</span>&nbsp;<span style=\"color: red;\">[</span></pre><pre style=\"margin-top:0\";padding:0></pre><pre style=\"margin-top:0;padding:0\">&nbsp;<span style=\"color: red;\"></span>&nbsp;<span style=\"color: red;\"></span>&nbsp;<span style=\"color: red;\"></span>&nbsp;<span style=\"color: red;\"></span>&nbsp;<span style=\"color: red;\"></span>&nbsp;<span style=\"color: red;\"></span>&nbsp;<span style=\"color: red;\"></span>&nbsp;<span style=\"color: red;\">34359738368,</span></pre><pre style=\"margin-top:0\";padding:0></pre><pre style=\"margin-top:0;padding:0\">&nbsp;<span style=\"color: red;\"></span>&nbsp;<span style=\"color: red;\"></span>&nbsp;<span style=\"color: red;\"></span>&nbsp;<span style=\"color: red;\"></span>&nbsp;<span style=\"color: red;\"></span>&nbsp;<span style=\"color: red;\"></span>&nbsp;<span style=\"color: red;\"></span>&nbsp;<span style=\"color: red;\">14608461824,</span></pre><pre style=\"margin-top:0\";padding:0></pre><pre style=\"margin-top:0;padding:0\">&nbsp;<span style=\"color: red;\"></span>&nbsp;<span style=\"color: red;\"></span>&nbsp;<span style=\"color: red;\"></span>&nbsp;<span style=\"color: red;\"></span>&nbsp;<span style=\"color: red;\"></span>&nbsp;<span style=\"color: red;\"></span>&nbsp;<span style=\"color: red;\"></span>&nbsp;<span style=\"color: red;\">57.5,</span></pre><pre style=\"margin-top:0\";padding:0></pre><pre style=\"margin-top:0;padding:0\">&nbsp;<span style=\"color: red;\"></span>&nbsp;<span style=\"color: red;\"></span>&nbsp;<span style=\"color: red;\"></span>&nbsp;<span style=\"color: red;\"></span>&nbsp;<span style=\"color: red;\"></span>&nbsp;<span style=\"color: red;\"></span>&nbsp;<span style=\"color: red;\"></span>&nbsp;<span style=\"color: red;\">17893371904,</span></pre><pre style=\"margin-top:0\";padding:0></pre><pre style=\"margin-top:0;padding:0\">&nbsp;<span style=\"color: red;\"></span>&nbsp;<span style=\"color: red;\"></span>&nbsp;<span style=\"color: red;\"></span>&nbsp;<span style=\"color: red;\"></span>&nbsp;<span style=\"color: red;\"></span>&nbsp;<span style=\"color: red;\"></span>&nbsp;<span style=\"color: red;\"></span>&nbsp;<span style=\"color: red;\">322117632,</span></pre><pre style=\"margin-top:0\";padding:0></pre><pre style=\"margin-top:0;padding:0\">&nbsp;<span style=\"color: red;\"></span>&nbsp;<span style=\"color: red;\"></span>&nbsp;<span style=\"color: red;\"></span>&nbsp;<span style=\"color: red;\"></span>&nbsp;<span style=\"color: red;\"></span>&nbsp;<span style=\"color: red;\"></span>&nbsp;<span style=\"color: red;\"></span>&nbsp;<span style=\"color: red;\">14220951552,</span></pre><pre style=\"margin-top:0\";padding:0></pre><pre style=\"margin-top:0;padding:0\">&nbsp;<span style=\"color: red;\"></span>&nbsp;<span style=\"color: red;\"></span>&nbsp;<span style=\"color: red;\"></span>&nbsp;<span style=\"color: red;\"></span>&nbsp;<span style=\"color: red;\"></span>&nbsp;<span style=\"color: red;\"></span>&nbsp;<span style=\"color: red;\"></span>&nbsp;<span style=\"color: red;\">14210273280,</span></pre><pre style=\"margin-top:0\";padding:0></pre><pre style=\"margin-top:0;padding:0\">&nbsp;<span style=\"color: red;\"></span>&nbsp;<span style=\"color: red;\"></span>&nbsp;<span style=\"color: red;\"></span>&nbsp;<span style=\"color: red;\"></span>&nbsp;<span style=\"color: red;\"></span>&nbsp;<span style=\"color: red;\"></span>&nbsp;<span style=\"color: red;\"></span>&nbsp;<span style=\"color: red;\">3672420352</span></pre><pre style=\"margin-top:0\";padding:0></pre><pre style=\"margin-top:0;padding:0\">&nbsp;<span style=\"color: red;\"></span>&nbsp;<span style=\"color: red;\"></span>&nbsp;<span style=\"color: red;\"></span>&nbsp;<span style=\"color: red;\"></span>&nbsp;<span style=\"color: red;\"></span>&nbsp;<span style=\"color: red;\">],</span></pre><pre style=\"margin-top:0\";padding:0></pre><pre style=\"margin-top:0;padding:0\">&nbsp;<span style=\"color: red;\"></span>&nbsp;<span style=\"color: red;\"></span>&nbsp;<span style=\"color: red;\"></span>&nbsp;<span style=\"color: red;\"></span>&nbsp;<span style=\"color: red;\"></span>&nbsp;<span style=\"color: red;\">&quot;cpu_freq_current&quot;:</span>&nbsp;<span style=\"color: red;\">2900,</span></pre><pre style=\"margin-top:0\";padding:0></pre><pre style=\"margin-top:0;padding:0\">&nbsp;<span style=\"color: red;\"></span>&nbsp;<span style=\"color: red;\"></span>&nbsp;<span style=\"color: red;\"></span>&nbsp;<span style=\"color: red;\"></span>&nbsp;<span style=\"color: red;\"></span>&nbsp;<span style=\"color: red;\">&quot;sys_cpu_percent&quot;:</span>&nbsp;<span style=\"color: red;\">12.6</span></pre><pre style=\"margin-top:0\";padding:0></pre><pre style=\"margin-top:0;padding:0\">&nbsp;<span style=\"color: red;\"></span>&nbsp;<span style=\"color: red;\"></span>&nbsp;<span style=\"color: red;\"></span>&nbsp;<span style=\"color: red;\">},</span></pre><pre style=\"margin-top:0\";padding:0></pre><pre style=\"margin-top:0;padding:0\">&nbsp;<span style=\"color: red;\"></span>&nbsp;<span style=\"color: red;\"></span>&nbsp;<span style=\"color: red;\"></span>&nbsp;<span style=\"color: red;\">{</span></pre><pre style=\"margin-top:0\";padding:0></pre><pre style=\"margin-top:0;padding:0\">&nbsp;<span style=\"color: red;\"></span>&nbsp;<span style=\"color: red;\"></span>&nbsp;<span style=\"color: red;\"></span>&nbsp;<span style=\"color: red;\"></span>&nbsp;<span style=\"color: red;\"></span>&nbsp;<span style=\"color: red;\">&quot;timestamp&quot;:</span>&nbsp;<span style=\"color: red;\">&quot;2021-06-30T20:31:37.381187&quot;,</span></pre><pre style=\"margin-top:0\";padding:0></pre><pre style=\"margin-top:0;padding:0\">&nbsp;<span style=\"color: red;\"></span>&nbsp;<span style=\"color: red;\"></span>&nbsp;<span style=\"color: red;\"></span>&nbsp;<span style=\"color: red;\"></span>&nbsp;<span style=\"color: red;\"></span>&nbsp;<span style=\"color: red;\">&quot;process_cpu_percent&quot;:</span>&nbsp;<span style=\"color: red;\">0.0,</span></pre><pre style=\"margin-top:0\";padding:0></pre><pre style=\"margin-top:0;padding:0\">&nbsp;<span style=\"color: red;\"></span>&nbsp;<span style=\"color: red;\"></span>&nbsp;<span style=\"color: red;\"></span>&nbsp;<span style=\"color: red;\"></span>&nbsp;<span style=\"color: red;\"></span>&nbsp;<span style=\"color: red;\">&quot;process_mem&quot;:</span>&nbsp;<span style=\"color: red;\">[</span></pre><pre style=\"margin-top:0\";padding:0></pre><pre style=\"margin-top:0;padding:0\">&nbsp;<span style=\"color: red;\"></span>&nbsp;<span style=\"color: red;\"></span>&nbsp;<span style=\"color: red;\"></span>&nbsp;<span style=\"color: red;\"></span>&nbsp;<span style=\"color: red;\"></span>&nbsp;<span style=\"color: red;\"></span>&nbsp;<span style=\"color: red;\"></span>&nbsp;<span style=\"color: red;\">196317184,</span></pre><pre style=\"margin-top:0\";padding:0></pre><pre style=\"margin-top:0;padding:0\">&nbsp;<span style=\"color: red;\"></span>&nbsp;<span style=\"color: red;\"></span>&nbsp;<span style=\"color: red;\"></span>&nbsp;<span style=\"color: red;\"></span>&nbsp;<span style=\"color: red;\"></span>&nbsp;<span style=\"color: red;\"></span>&nbsp;<span style=\"color: red;\"></span>&nbsp;<span style=\"color: red;\">5709893632,</span></pre><pre style=\"margin-top:0\";padding:0></pre><pre style=\"margin-top:0;padding:0\">&nbsp;<span style=\"color: red;\"></span>&nbsp;<span style=\"color: red;\"></span>&nbsp;<span style=\"color: red;\"></span>&nbsp;<span style=\"color: red;\"></span>&nbsp;<span style=\"color: red;\"></span>&nbsp;<span style=\"color: red;\"></span>&nbsp;<span style=\"color: red;\"></span>&nbsp;<span style=\"color: red;\">91597,</span></pre><pre style=\"margin-top:0\";padding:0></pre><pre style=\"margin-top:0;padding:0\">&nbsp;<span style=\"color: red;\"></span>&nbsp;<span style=\"color: red;\"></span>&nbsp;<span style=\"color: red;\"></span>&nbsp;<span style=\"color: red;\"></span>&nbsp;<span style=\"color: red;\"></span>&nbsp;<span style=\"color: red;\"></span>&nbsp;<span style=\"color: red;\"></span>&nbsp;<span style=\"color: red;\">2360,</span></pre><pre style=\"margin-top:0\";padding:0></pre><pre style=\"margin-top:0;padding:0\">&nbsp;<span style=\"color: red;\"></span>&nbsp;<span style=\"color: red;\"></span>&nbsp;<span style=\"color: red;\"></span>&nbsp;<span style=\"color: red;\"></span>&nbsp;<span style=\"color: red;\"></span>&nbsp;<span style=\"color: red;\"></span>&nbsp;<span style=\"color: red;\"></span>&nbsp;<span style=\"color: red;\">167579648</span></pre><pre style=\"margin-top:0\";padding:0></pre><pre style=\"margin-top:0;padding:0\">&nbsp;&nbsp;&nbsp;&nbsp;&nbsp;&nbsp;],</pre><pre style=\"margin-top:0\";padding:0>&nbsp;&nbsp;&nbsp;&nbsp;&nbsp;&nbsp;],</pre><pre style=\"margin-top:0;padding:0\">&nbsp;&nbsp;&nbsp;&nbsp;&nbsp;&nbsp;&quot;sys_swap&quot;:&nbsp;[</pre><pre style=\"margin-top:0\";padding:0>&nbsp;&nbsp;&nbsp;&nbsp;&nbsp;&nbsp;&quot;sys_swap&quot;:&nbsp;[</pre><pre style=\"margin-top:0;padding:0\">&nbsp;&nbsp;&nbsp;&nbsp;&nbsp;&nbsp;&nbsp;&nbsp;0,</pre><pre style=\"margin-top:0\";padding:0>&nbsp;&nbsp;&nbsp;&nbsp;&nbsp;&nbsp;&nbsp;&nbsp;0,</pre><pre style=\"margin-top:0;padding:0\">&nbsp;&nbsp;&nbsp;&nbsp;&nbsp;&nbsp;&nbsp;&nbsp;0,</pre><pre style=\"margin-top:0\";padding:0>&nbsp;&nbsp;&nbsp;&nbsp;&nbsp;&nbsp;&nbsp;&nbsp;0,</pre><pre style=\"margin-top:0;padding:0\">&nbsp;&nbsp;&nbsp;&nbsp;&nbsp;&nbsp;&nbsp;&nbsp;0,</pre><pre style=\"margin-top:0\";padding:0>&nbsp;&nbsp;&nbsp;&nbsp;&nbsp;&nbsp;&nbsp;&nbsp;0,</pre><pre style=\"margin-top:0;padding:0\">&nbsp;&nbsp;&nbsp;&nbsp;&nbsp;&nbsp;&nbsp;&nbsp;0.0,</pre><pre style=\"margin-top:0\";padding:0>&nbsp;&nbsp;&nbsp;&nbsp;&nbsp;&nbsp;&nbsp;&nbsp;0.0,</pre><pre style=\"margin-top:0;padding:0\">&nbsp;&nbsp;&nbsp;&nbsp;&nbsp;&nbsp;&nbsp;&nbsp;14821621760,</pre><pre style=\"margin-top:0\";padding:0>&nbsp;&nbsp;&nbsp;&nbsp;&nbsp;&nbsp;&nbsp;&nbsp;14821621760,</pre><pre style=\"margin-top:0;padding:0\">&nbsp;&nbsp;&nbsp;&nbsp;&nbsp;&nbsp;&nbsp;&nbsp;30523392</pre><pre style=\"margin-top:0\";padding:0>&nbsp;&nbsp;&nbsp;&nbsp;&nbsp;&nbsp;&nbsp;&nbsp;30523392</pre><pre style=\"margin-top:0;padding:0\">&nbsp;&nbsp;&nbsp;&nbsp;&nbsp;&nbsp;],</pre><pre style=\"margin-top:0\";padding:0>&nbsp;&nbsp;&nbsp;&nbsp;&nbsp;&nbsp;],</pre><pre style=\"margin-top:0;padding:0\">&nbsp;&nbsp;&nbsp;&nbsp;&nbsp;&nbsp;&quot;sys_mem&quot;:&nbsp;[</pre><pre style=\"margin-top:0\";padding:0>&nbsp;&nbsp;&nbsp;&nbsp;&nbsp;&nbsp;&quot;sys_mem&quot;:&nbsp;[</pre><pre style=\"margin-top:0;padding:0\">&nbsp;&nbsp;&nbsp;&nbsp;&nbsp;&nbsp;&nbsp;&nbsp;34359738368,</pre><pre style=\"margin-top:0\";padding:0>&nbsp;&nbsp;&nbsp;&nbsp;&nbsp;&nbsp;&nbsp;&nbsp;34359738368,</pre><pre style=\"margin-top:0;padding:0\">&nbsp;&nbsp;&nbsp;&nbsp;&nbsp;&nbsp;&nbsp;&nbsp;<span style=\"color: red;\">14591455232,</span></pre><pre style=\"margin-top:0\";padding:0>&nbsp;&nbsp;&nbsp;&nbsp;&nbsp;&nbsp;&nbsp;&nbsp;<span style=\"color: red;\">14649667584,</span></pre><pre style=\"margin-top:0;padding:0\">&nbsp;&nbsp;&nbsp;&nbsp;&nbsp;&nbsp;&nbsp;&nbsp;<span style=\"color: red;\">57.5,</span></pre><pre style=\"margin-top:0\";padding:0>&nbsp;&nbsp;&nbsp;&nbsp;&nbsp;&nbsp;&nbsp;&nbsp;<span style=\"color: red;\">57.4,</span></pre><pre style=\"margin-top:0;padding:0\">&nbsp;&nbsp;&nbsp;&nbsp;&nbsp;&nbsp;&nbsp;&nbsp;<span style=\"color: red;\">17909702656,</span></pre><pre style=\"margin-top:0\";padding:0>&nbsp;&nbsp;&nbsp;&nbsp;&nbsp;&nbsp;&nbsp;&nbsp;<span style=\"color: red;\">17852440576,</span></pre><pre style=\"margin-top:0;padding:0\">&nbsp;&nbsp;&nbsp;&nbsp;&nbsp;&nbsp;&nbsp;&nbsp;<span style=\"color: red;\">305160192,</span></pre><pre style=\"margin-top:0\";padding:0>&nbsp;&nbsp;&nbsp;&nbsp;&nbsp;&nbsp;&nbsp;&nbsp;<span style=\"color: red;\">382013440,</span></pre><pre style=\"margin-top:0;padding:0\">&nbsp;&nbsp;&nbsp;&nbsp;&nbsp;&nbsp;&nbsp;&nbsp;<span style=\"color: red;\">14237151232,</span></pre><pre style=\"margin-top:0\";padding:0>&nbsp;&nbsp;&nbsp;&nbsp;&nbsp;&nbsp;&nbsp;&nbsp;<span style=\"color: red;\">14164353024,</span></pre><pre style=\"margin-top:0;padding:0\">&nbsp;&nbsp;&nbsp;&nbsp;&nbsp;&nbsp;&nbsp;&nbsp;<span style=\"color: red;\">14209904640,</span></pre><pre style=\"margin-top:0\";padding:0>&nbsp;&nbsp;&nbsp;&nbsp;&nbsp;&nbsp;&nbsp;&nbsp;<span style=\"color: red;\">14191255552,</span></pre><pre style=\"margin-top:0;padding:0\">&nbsp;&nbsp;&nbsp;&nbsp;&nbsp;&nbsp;&nbsp;&nbsp;<span style=\"color: red;\">3672551424</span></pre><pre style=\"margin-top:0\";padding:0>&nbsp;&nbsp;&nbsp;&nbsp;&nbsp;&nbsp;&nbsp;&nbsp;<span style=\"color: red;\">3688087552</span></pre><pre style=\"margin-top:0;padding:0\">&nbsp;&nbsp;&nbsp;&nbsp;&nbsp;&nbsp;],</pre><pre style=\"margin-top:0\";padding:0>&nbsp;&nbsp;&nbsp;&nbsp;&nbsp;&nbsp;],</pre><pre style=\"margin-top:0;padding:0\">&nbsp;&nbsp;&nbsp;&nbsp;&nbsp;&nbsp;&quot;cpu_freq_current&quot;:&nbsp;2900,</pre><pre style=\"margin-top:0\";padding:0>&nbsp;&nbsp;&nbsp;&nbsp;&nbsp;&nbsp;&quot;cpu_freq_current&quot;:&nbsp;2900,</pre><pre style=\"margin-top:0;padding:0\">&nbsp;&nbsp;&nbsp;&nbsp;&nbsp;&nbsp;&quot;sys_cpu_percent&quot;:&nbsp;<span style=\"color: red;\">3.3</span></pre><pre style=\"margin-top:0\";padding:0>&nbsp;&nbsp;&nbsp;&nbsp;&nbsp;&nbsp;&quot;sys_cpu_percent&quot;:&nbsp;<span style=\"color: red;\">10.8</span></pre><pre style=\"margin-top:0;padding:0\">&nbsp;&nbsp;&nbsp;&nbsp;}</pre><pre style=\"margin-top:0\";padding:0>&nbsp;&nbsp;&nbsp;&nbsp;}</pre><pre style=\"margin-top:0;padding:0\">&nbsp;&nbsp;],</pre><pre style=\"margin-top:0\";padding:0>&nbsp;&nbsp;],</pre><pre style=\"margin-top:0;padding:0\">&nbsp;&nbsp;&quot;start_time&quot;:&nbsp;<span style=\"color: red;\">1625085092884,</span></pre><pre style=\"margin-top:0\";padding:0>&nbsp;&nbsp;&quot;start_time&quot;:&nbsp;<span style=\"color: red;\">1625085098431,</span></pre><pre style=\"margin-top:0;padding:0\">&nbsp;&nbsp;&quot;finish_time&quot;:&nbsp;<span style=\"color: red;\">1625085097478,</span></pre><pre style=\"margin-top:0\";padding:0>&nbsp;&nbsp;&quot;finish_time&quot;:&nbsp;<span style=\"color: red;\">1625085098706,</span></pre><pre style=\"margin-top:0;padding:0\">&nbsp;&nbsp;&quot;runtime&quot;:&nbsp;<span style=\"color: red;\">4593</span></pre><pre style=\"margin-top:0\";padding:0>&nbsp;&nbsp;&quot;runtime&quot;:&nbsp;<span style=\"color: red;\">274</span></pre><pre style=\"margin-top:0;padding:0\">}</pre><pre style=\"margin-top:0\";padding:0>}</pre></div>"
      ],
      "text/plain": [
       "<IPython.core.display.HTML object>"
      ]
     },
     "metadata": {},
     "output_type": "display_data"
    }
   ],
   "source": [
    "from microbench import envdiff\n",
    "envdiff(results.iloc[0], results.iloc[1])"
   ]
  },
  {
   "cell_type": "markdown",
   "id": "f66a525d",
   "metadata": {},
   "source": [
    "## Telemetry analysis\n",
    "The function runs above contain a few telemetry points. Let's see how CPU and RAM usage changed over time in the first run."
   ]
  },
  {
   "cell_type": "code",
   "execution_count": 10,
   "id": "41e0d1ff",
   "metadata": {},
   "outputs": [
    {
     "data": {
      "text/html": [
       "<div>\n",
       "<style scoped>\n",
       "    .dataframe tbody tr th:only-of-type {\n",
       "        vertical-align: middle;\n",
       "    }\n",
       "\n",
       "    .dataframe tbody tr th {\n",
       "        vertical-align: top;\n",
       "    }\n",
       "\n",
       "    .dataframe thead th {\n",
       "        text-align: right;\n",
       "    }\n",
       "</style>\n",
       "<table border=\"1\" class=\"dataframe\">\n",
       "  <thead>\n",
       "    <tr style=\"text-align: right;\">\n",
       "      <th></th>\n",
       "      <th>timestamp</th>\n",
       "      <th>process_cpu_percent</th>\n",
       "      <th>process_mem</th>\n",
       "      <th>sys_swap</th>\n",
       "      <th>sys_mem</th>\n",
       "      <th>cpu_freq_current</th>\n",
       "      <th>sys_cpu_percent</th>\n",
       "    </tr>\n",
       "  </thead>\n",
       "  <tbody>\n",
       "    <tr>\n",
       "      <th>0</th>\n",
       "      <td>2021-06-30 20:31:32.884306</td>\n",
       "      <td>0.0</td>\n",
       "      <td>[181669888, 5706682368, 73570, 2360, 152322048]</td>\n",
       "      <td>[0, 0, 0, 0.0, 14821355520, 30523392]</td>\n",
       "      <td>[34359738368, 14543343616, 57.7, 17957937152, ...</td>\n",
       "      <td>2900</td>\n",
       "      <td>12.6</td>\n",
       "    </tr>\n",
       "    <tr>\n",
       "      <th>1</th>\n",
       "      <td>2021-06-30 20:31:35.144748</td>\n",
       "      <td>0.0</td>\n",
       "      <td>[193040384, 5707796480, 80923, 2360, 161890304]</td>\n",
       "      <td>[0, 0, 0, 0.0, 14821355520, 30523392]</td>\n",
       "      <td>[34359738368, 14608461824, 57.5, 17893371904, ...</td>\n",
       "      <td>2900</td>\n",
       "      <td>12.6</td>\n",
       "    </tr>\n",
       "    <tr>\n",
       "      <th>2</th>\n",
       "      <td>2021-06-30 20:31:37.381187</td>\n",
       "      <td>0.0</td>\n",
       "      <td>[196317184, 5709893632, 91597, 2360, 167579648]</td>\n",
       "      <td>[0, 0, 0, 0.0, 14821621760, 30523392]</td>\n",
       "      <td>[34359738368, 14591455232, 57.5, 17909702656, ...</td>\n",
       "      <td>2900</td>\n",
       "      <td>3.3</td>\n",
       "    </tr>\n",
       "  </tbody>\n",
       "</table>\n",
       "</div>"
      ],
      "text/plain": [
       "                   timestamp  process_cpu_percent  \\\n",
       "0 2021-06-30 20:31:32.884306                  0.0   \n",
       "1 2021-06-30 20:31:35.144748                  0.0   \n",
       "2 2021-06-30 20:31:37.381187                  0.0   \n",
       "\n",
       "                                       process_mem  \\\n",
       "0  [181669888, 5706682368, 73570, 2360, 152322048]   \n",
       "1  [193040384, 5707796480, 80923, 2360, 161890304]   \n",
       "2  [196317184, 5709893632, 91597, 2360, 167579648]   \n",
       "\n",
       "                                sys_swap  \\\n",
       "0  [0, 0, 0, 0.0, 14821355520, 30523392]   \n",
       "1  [0, 0, 0, 0.0, 14821355520, 30523392]   \n",
       "2  [0, 0, 0, 0.0, 14821621760, 30523392]   \n",
       "\n",
       "                                             sys_mem  cpu_freq_current  \\\n",
       "0  [34359738368, 14543343616, 57.7, 17957937152, ...              2900   \n",
       "1  [34359738368, 14608461824, 57.5, 17893371904, ...              2900   \n",
       "2  [34359738368, 14591455232, 57.5, 17909702656, ...              2900   \n",
       "\n",
       "   sys_cpu_percent  \n",
       "0             12.6  \n",
       "1             12.6  \n",
       "2              3.3  "
      ]
     },
     "execution_count": 10,
     "metadata": {},
     "output_type": "execute_result"
    }
   ],
   "source": [
    "run0_telem = pandas.DataFrame.from_dict(results.iloc[0].telemetry)\n",
    "# Convert timestamps from str to datetime64\n",
    "run0_telem['timestamp'] = pandas.to_datetime(run0_telem['timestamp'])\n",
    "# Show the dataframe\n",
    "run0_telem"
   ]
  },
  {
   "cell_type": "code",
   "execution_count": 11,
   "id": "5ad24f5c",
   "metadata": {},
   "outputs": [],
   "source": [
    "# Calculate elapsed time for each entry\n",
    "run0_telem['time_elapsed'] = run0_telem['timestamp'] - results.iloc[0]['start_time']"
   ]
  },
  {
   "cell_type": "code",
   "execution_count": 12,
   "id": "03ef59f1",
   "metadata": {},
   "outputs": [
    {
     "data": {
      "text/plain": [
       "<AxesSubplot:xlabel='time_elapsed', ylabel='sys_cpu_percent'>"
      ]
     },
     "execution_count": 12,
     "metadata": {},
     "output_type": "execute_result"
    },
    {
     "data": {
      "image/png": "[encoded data removed]",
      "text/plain": [
       "<Figure size 432x288 with 1 Axes>"
      ]
     },
     "metadata": {
      "needs_background": "light"
     },
     "output_type": "display_data"
    }
   ],
   "source": [
    "# Show system CPU percent utilization over time\n",
    "seaborn.lineplot(data=run0_telem, y='sys_cpu_percent', x='time_elapsed')"
   ]
  },
  {
   "cell_type": "code",
   "execution_count": 13,
   "id": "3703b02e",
   "metadata": {},
   "outputs": [
    {
     "data": {
      "text/plain": [
       "<AxesSubplot:xlabel='time_elapsed', ylabel='process_rss_mem'>"
      ]
     },
     "execution_count": 13,
     "metadata": {},
     "output_type": "execute_result"
    },
    {
     "data": {
      "image/png": "[encoded data removed]",
      "text/plain": [
       "<Figure size 432x288 with 1 Axes>"
      ]
     },
     "metadata": {
      "needs_background": "light"
     },
     "output_type": "display_data"
    }
   ],
   "source": [
    "# Show resident set size (RSS) memory usage over time\n",
    "run0_telem['process_rss_mem'] = run0_telem['process_mem'].apply(lambda x: x[0])\n",
    "seaborn.lineplot(data=run0_telem, y='process_rss_mem', x='time_elapsed')"
   ]
  },
  {
   "cell_type": "markdown",
   "id": "a39fa46e",
   "metadata": {},
   "source": [
    "## Discussion\n",
    "The above examples show how multiple functions can be benchmarked using microbench, and how different types of metadata can be captured. We also showed how to display telemetry data on a contrived example, but the same principles will apply to telemetry from longer-running functions\n",
    "\n",
    "Microbench aims to make metadata capture easy, so that it can be collected routinely and used later if required for debugging, identifying reproducibility issues, and benchmarking."
   ]
  }
 ],
 "metadata": {
  "kernelspec": {
   "display_name": "Python 3 (ipykernel)",
   "language": "python",
   "name": "python3"
  },
  "language_info": {
   "codemirror_mode": {
    "name": "ipython",
    "version": 3
   },
   "file_extension": ".py",
   "mimetype": "text/x-python",
   "name": "python",
   "nbconvert_exporter": "python",
   "pygments_lexer": "ipython3",
   "version": "3.9.5"
  }
 },
 "nbformat": 4,
 "nbformat_minor": 5
}
