{
 "cells": [
  {
   "cell_type": "markdown",
   "id": "95d500ab",
   "metadata": {},
   "source": [
    "# Analyzing NumPy benchmarks using microbench"
   ]
  },
  {
   "cell_type": "markdown",
   "id": "68d968a9",
   "metadata": {},
   "source": [
    "## Background\n",
    "This is a quick microbench example to demonstrate how two different versions of the NumPy library can give different outputs. The change highlighted here is a documented API change and not a bug, however, if a user runs code across heterogeneous compute environments (e.g. a cluster) it may not be immediately obvious that some nodes may be differently or misconfigured. A small Python program can be found in this directory, together with a JSON file containing microbench-captured metadata."
   ]
  },
  {
   "cell_type": "markdown",
   "id": "20da2cb2",
   "metadata": {},
   "source": [
    "## Load the data"
   ]
  },
  {
   "cell_type": "code",
   "execution_count": 1,
   "id": "3ebed838",
   "metadata": {},
   "outputs": [],
   "source": [
    "import pandas as pd"
   ]
  },
  {
   "cell_type": "code",
   "execution_count": 2,
   "id": "06337160",
   "metadata": {},
   "outputs": [],
   "source": [
    "results = pd.read_json('microbench-numpy.json', lines=True)"
   ]
  },
  {
   "cell_type": "markdown",
   "id": "936a52fc",
   "metadata": {},
   "source": [
    "## Show the captured metadata"
   ]
  },
  {
   "cell_type": "code",
   "execution_count": 3,
   "id": "41b1c9a3",
   "metadata": {},
   "outputs": [
    {
     "data": {
      "text/html": [
       "<div>\n",
       "<style scoped>\n",
       "    .dataframe tbody tr th:only-of-type {\n",
       "        vertical-align: middle;\n",
       "    }\n",
       "\n",
       "    .dataframe tbody tr th {\n",
       "        vertical-align: top;\n",
       "    }\n",
       "\n",
       "    .dataframe thead th {\n",
       "        text-align: right;\n",
       "    }\n",
       "</style>\n",
       "<table border=\"1\" class=\"dataframe\">\n",
       "  <thead>\n",
       "    <tr style=\"text-align: right;\">\n",
       "      <th></th>\n",
       "      <th>function_name</th>\n",
       "      <th>package_versions</th>\n",
       "      <th>hostname</th>\n",
       "      <th>operating_system</th>\n",
       "      <th>start_time</th>\n",
       "      <th>finish_time</th>\n",
       "      <th>return_value</th>\n",
       "    </tr>\n",
       "  </thead>\n",
       "  <tbody>\n",
       "    <tr>\n",
       "      <th>0</th>\n",
       "      <td>sum_linspace</td>\n",
       "      <td>{'numpy': '1.15.0', 'microbench': '0.7'}</td>\n",
       "      <td>bismo</td>\n",
       "      <td>darwin</td>\n",
       "      <td>2021-03-02 13:06:35.414658</td>\n",
       "      <td>2021-03-02 13:06:35.414758</td>\n",
       "      <td>-6</td>\n",
       "    </tr>\n",
       "    <tr>\n",
       "      <th>1</th>\n",
       "      <td>sum_linspace</td>\n",
       "      <td>{'numpy': '1.20.0', 'microbench': '0.7'}</td>\n",
       "      <td>bismo</td>\n",
       "      <td>darwin</td>\n",
       "      <td>2021-03-02 13:07:16.945669</td>\n",
       "      <td>2021-03-02 13:07:16.945913</td>\n",
       "      <td>-11</td>\n",
       "    </tr>\n",
       "  </tbody>\n",
       "</table>\n",
       "</div>"
      ],
      "text/plain": [
       "  function_name                          package_versions hostname  \\\n",
       "0  sum_linspace  {'numpy': '1.15.0', 'microbench': '0.7'}    bismo   \n",
       "1  sum_linspace  {'numpy': '1.20.0', 'microbench': '0.7'}    bismo   \n",
       "\n",
       "  operating_system                 start_time                finish_time  \\\n",
       "0           darwin 2021-03-02 13:06:35.414658 2021-03-02 13:06:35.414758   \n",
       "1           darwin 2021-03-02 13:07:16.945669 2021-03-02 13:07:16.945913   \n",
       "\n",
       "   return_value  \n",
       "0            -6  \n",
       "1           -11  "
      ]
     },
     "execution_count": 3,
     "metadata": {},
     "output_type": "execute_result"
    }
   ],
   "source": [
    "results"
   ]
  },
  {
   "cell_type": "code",
   "execution_count": 4,
   "id": "d8d0f012",
   "metadata": {},
   "outputs": [],
   "source": [
    "results['runtime'] = results['finish_time'] - results['start_time']"
   ]
  },
  {
   "cell_type": "code",
   "execution_count": 5,
   "id": "899f0133",
   "metadata": {},
   "outputs": [
    {
     "data": {
      "text/plain": [
       "0   0 days 00:00:00.000100\n",
       "1   0 days 00:00:00.000244\n",
       "Name: runtime, dtype: timedelta64[ns]"
      ]
     },
     "execution_count": 5,
     "metadata": {},
     "output_type": "execute_result"
    }
   ],
   "source": [
    "results['runtime']"
   ]
  },
  {
   "cell_type": "markdown",
   "id": "b554ede7",
   "metadata": {},
   "source": [
    "We can also reformat the `package_versions` dictionaries into separate columns, which is useful if we want to sort or filter by version number."
   ]
  },
  {
   "cell_type": "code",
   "execution_count": 8,
   "id": "5969f6ef",
   "metadata": {},
   "outputs": [],
   "source": [
    "results = pd.concat([results, pd.json_normalize(results['package_versions'])], axis=1).drop(columns='package_versions')"
   ]
  },
  {
   "cell_type": "code",
   "execution_count": 9,
   "id": "4014268b",
   "metadata": {},
   "outputs": [
    {
     "data": {
      "text/html": [
       "<div>\n",
       "<style scoped>\n",
       "    .dataframe tbody tr th:only-of-type {\n",
       "        vertical-align: middle;\n",
       "    }\n",
       "\n",
       "    .dataframe tbody tr th {\n",
       "        vertical-align: top;\n",
       "    }\n",
       "\n",
       "    .dataframe thead th {\n",
       "        text-align: right;\n",
       "    }\n",
       "</style>\n",
       "<table border=\"1\" class=\"dataframe\">\n",
       "  <thead>\n",
       "    <tr style=\"text-align: right;\">\n",
       "      <th></th>\n",
       "      <th>function_name</th>\n",
       "      <th>hostname</th>\n",
       "      <th>operating_system</th>\n",
       "      <th>start_time</th>\n",
       "      <th>finish_time</th>\n",
       "      <th>return_value</th>\n",
       "      <th>runtime</th>\n",
       "      <th>numpy</th>\n",
       "      <th>microbench</th>\n",
       "    </tr>\n",
       "  </thead>\n",
       "  <tbody>\n",
       "    <tr>\n",
       "      <th>0</th>\n",
       "      <td>sum_linspace</td>\n",
       "      <td>bismo</td>\n",
       "      <td>darwin</td>\n",
       "      <td>2021-03-02 13:06:35.414658</td>\n",
       "      <td>2021-03-02 13:06:35.414758</td>\n",
       "      <td>-6</td>\n",
       "      <td>0 days 00:00:00.000100</td>\n",
       "      <td>1.15.0</td>\n",
       "      <td>0.7</td>\n",
       "    </tr>\n",
       "    <tr>\n",
       "      <th>1</th>\n",
       "      <td>sum_linspace</td>\n",
       "      <td>bismo</td>\n",
       "      <td>darwin</td>\n",
       "      <td>2021-03-02 13:07:16.945669</td>\n",
       "      <td>2021-03-02 13:07:16.945913</td>\n",
       "      <td>-11</td>\n",
       "      <td>0 days 00:00:00.000244</td>\n",
       "      <td>1.20.0</td>\n",
       "      <td>0.7</td>\n",
       "    </tr>\n",
       "  </tbody>\n",
       "</table>\n",
       "</div>"
      ],
      "text/plain": [
       "  function_name hostname operating_system                 start_time  \\\n",
       "0  sum_linspace    bismo           darwin 2021-03-02 13:06:35.414658   \n",
       "1  sum_linspace    bismo           darwin 2021-03-02 13:07:16.945669   \n",
       "\n",
       "                 finish_time  return_value                runtime   numpy  \\\n",
       "0 2021-03-02 13:06:35.414758            -6 0 days 00:00:00.000100  1.15.0   \n",
       "1 2021-03-02 13:07:16.945913           -11 0 days 00:00:00.000244  1.20.0   \n",
       "\n",
       "  microbench  \n",
       "0        0.7  \n",
       "1        0.7  "
      ]
     },
     "execution_count": 9,
     "metadata": {},
     "output_type": "execute_result"
    }
   ],
   "source": [
    "results.head()"
   ]
  },
  {
   "cell_type": "markdown",
   "id": "c2b444f2",
   "metadata": {},
   "source": [
    "## Discussion\n",
    "The above example demonstrates different `return_value`s for NumPy 1.15 and 1.20. While environment standardization using virtual environments is encouraged, capturing metadata can help detect misconfigured environments."
   ]
  }
 ],
 "metadata": {
  "kernelspec": {
   "display_name": "Python 3 (ipykernel)",
   "language": "python",
   "name": "python3"
  },
  "language_info": {
   "codemirror_mode": {
    "name": "ipython",
    "version": 3
   },
   "file_extension": ".py",
   "mimetype": "text/x-python",
   "name": "python",
   "nbconvert_exporter": "python",
   "pygments_lexer": "ipython3",
   "version": "3.9.5"
  }
 },
 "nbformat": 4,
 "nbformat_minor": 5
}
